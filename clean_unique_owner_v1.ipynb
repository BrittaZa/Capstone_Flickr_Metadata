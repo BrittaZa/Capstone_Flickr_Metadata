{
 "cells": [
  {
   "cell_type": "markdown",
   "metadata": {},
   "source": [
    "# Cleaning unique user data"
   ]
  },
  {
   "cell_type": "code",
   "execution_count": 1,
   "metadata": {},
   "outputs": [],
   "source": [
    "# importing necessary packages\n",
    "import pandas as pd\n",
    "import requests\n",
    "from dotenv import load_dotenv\n",
    "load_dotenv()\n",
    "import os\n",
    "import json\n",
    "import flickrapi\n",
    "import time"
   ]
  },
  {
   "cell_type": "code",
   "execution_count": 2,
   "metadata": {},
   "outputs": [
    {
     "name": "stderr",
     "output_type": "stream",
     "text": [
      "/var/folders/n9/f309cdzj1vg84wrrq1h5nskm0000gn/T/ipykernel_53278/63229535.py:2: DtypeWarning: Columns (37) have mixed types. Specify dtype option on import or set low_memory=False.\n",
      "  df_user_data = pd.read_csv('data/unique_owner.csv')\n"
     ]
    }
   ],
   "source": [
    "# read csv into df\n",
    "df_user_data = pd.read_csv('data/unique_owner.csv')"
   ]
  },
  {
   "cell_type": "code",
   "execution_count": 3,
   "metadata": {},
   "outputs": [
    {
     "data": {
      "text/html": [
       "<div>\n",
       "<style scoped>\n",
       "    .dataframe tbody tr th:only-of-type {\n",
       "        vertical-align: middle;\n",
       "    }\n",
       "\n",
       "    .dataframe tbody tr th {\n",
       "        vertical-align: top;\n",
       "    }\n",
       "\n",
       "    .dataframe thead th {\n",
       "        text-align: right;\n",
       "    }\n",
       "</style>\n",
       "<table border=\"1\" class=\"dataframe\">\n",
       "  <thead>\n",
       "    <tr style=\"text-align: right;\">\n",
       "      <th></th>\n",
       "      <th>Unnamed: 0.6</th>\n",
       "      <th>Unnamed: 0.5</th>\n",
       "      <th>Unnamed: 0.4</th>\n",
       "      <th>Unnamed: 0.3</th>\n",
       "      <th>Unnamed: 0.2</th>\n",
       "      <th>Unnamed: 0.1</th>\n",
       "      <th>Unnamed: 0</th>\n",
       "      <th>stat</th>\n",
       "      <th>person_id</th>\n",
       "      <th>person_nsid</th>\n",
       "      <th>...</th>\n",
       "      <th>person_has_free_educational_resources</th>\n",
       "      <th>person_timezone_label</th>\n",
       "      <th>person_timezone_offset</th>\n",
       "      <th>person_timezone_timezone_id</th>\n",
       "      <th>person_timezone_timezone</th>\n",
       "      <th>person_pro_badge</th>\n",
       "      <th>person_expire</th>\n",
       "      <th>person_mbox_sha1sum__content</th>\n",
       "      <th>code</th>\n",
       "      <th>message</th>\n",
       "    </tr>\n",
       "  </thead>\n",
       "  <tbody>\n",
       "    <tr>\n",
       "      <th>0</th>\n",
       "      <td>0</td>\n",
       "      <td>0.0</td>\n",
       "      <td>0.0</td>\n",
       "      <td>0.0</td>\n",
       "      <td>0.0</td>\n",
       "      <td>0.0</td>\n",
       "      <td>0.0</td>\n",
       "      <td>ok</td>\n",
       "      <td>197843899@N04</td>\n",
       "      <td>197843899@N04</td>\n",
       "      <td>...</td>\n",
       "      <td>0.0</td>\n",
       "      <td>NaN</td>\n",
       "      <td>NaN</td>\n",
       "      <td>NaN</td>\n",
       "      <td>NaN</td>\n",
       "      <td>NaN</td>\n",
       "      <td>NaN</td>\n",
       "      <td>NaN</td>\n",
       "      <td>NaN</td>\n",
       "      <td>NaN</td>\n",
       "    </tr>\n",
       "    <tr>\n",
       "      <th>1</th>\n",
       "      <td>1</td>\n",
       "      <td>1.0</td>\n",
       "      <td>1.0</td>\n",
       "      <td>1.0</td>\n",
       "      <td>1.0</td>\n",
       "      <td>1.0</td>\n",
       "      <td>1.0</td>\n",
       "      <td>ok</td>\n",
       "      <td>26745338@N06</td>\n",
       "      <td>26745338@N06</td>\n",
       "      <td>...</td>\n",
       "      <td>0.0</td>\n",
       "      <td>Brasilia</td>\n",
       "      <td>-03:00</td>\n",
       "      <td>America/Sao_Paulo</td>\n",
       "      <td>20.0</td>\n",
       "      <td>NaN</td>\n",
       "      <td>NaN</td>\n",
       "      <td>NaN</td>\n",
       "      <td>NaN</td>\n",
       "      <td>NaN</td>\n",
       "    </tr>\n",
       "    <tr>\n",
       "      <th>2</th>\n",
       "      <td>2</td>\n",
       "      <td>2.0</td>\n",
       "      <td>2.0</td>\n",
       "      <td>2.0</td>\n",
       "      <td>2.0</td>\n",
       "      <td>2.0</td>\n",
       "      <td>2.0</td>\n",
       "      <td>ok</td>\n",
       "      <td>31331368@N00</td>\n",
       "      <td>31331368@N00</td>\n",
       "      <td>...</td>\n",
       "      <td>0.0</td>\n",
       "      <td>Canberra, Melbourne, Sydney</td>\n",
       "      <td>+10:00</td>\n",
       "      <td>Australia/Canberra</td>\n",
       "      <td>68.0</td>\n",
       "      <td>standard</td>\n",
       "      <td>0.000000e+00</td>\n",
       "      <td>NaN</td>\n",
       "      <td>NaN</td>\n",
       "      <td>NaN</td>\n",
       "    </tr>\n",
       "    <tr>\n",
       "      <th>3</th>\n",
       "      <td>3</td>\n",
       "      <td>3.0</td>\n",
       "      <td>3.0</td>\n",
       "      <td>3.0</td>\n",
       "      <td>3.0</td>\n",
       "      <td>3.0</td>\n",
       "      <td>3.0</td>\n",
       "      <td>ok</td>\n",
       "      <td>122687277@N03</td>\n",
       "      <td>122687277@N03</td>\n",
       "      <td>...</td>\n",
       "      <td>0.0</td>\n",
       "      <td>NaN</td>\n",
       "      <td>NaN</td>\n",
       "      <td>NaN</td>\n",
       "      <td>NaN</td>\n",
       "      <td>standard</td>\n",
       "      <td>0.000000e+00</td>\n",
       "      <td>NaN</td>\n",
       "      <td>NaN</td>\n",
       "      <td>NaN</td>\n",
       "    </tr>\n",
       "    <tr>\n",
       "      <th>4</th>\n",
       "      <td>4</td>\n",
       "      <td>4.0</td>\n",
       "      <td>4.0</td>\n",
       "      <td>4.0</td>\n",
       "      <td>4.0</td>\n",
       "      <td>4.0</td>\n",
       "      <td>4.0</td>\n",
       "      <td>ok</td>\n",
       "      <td>196275842@N08</td>\n",
       "      <td>196275842@N08</td>\n",
       "      <td>...</td>\n",
       "      <td>0.0</td>\n",
       "      <td>NaN</td>\n",
       "      <td>NaN</td>\n",
       "      <td>NaN</td>\n",
       "      <td>NaN</td>\n",
       "      <td>NaN</td>\n",
       "      <td>NaN</td>\n",
       "      <td>NaN</td>\n",
       "      <td>NaN</td>\n",
       "      <td>NaN</td>\n",
       "    </tr>\n",
       "    <tr>\n",
       "      <th>5</th>\n",
       "      <td>5</td>\n",
       "      <td>5.0</td>\n",
       "      <td>5.0</td>\n",
       "      <td>5.0</td>\n",
       "      <td>5.0</td>\n",
       "      <td>5.0</td>\n",
       "      <td>5.0</td>\n",
       "      <td>ok</td>\n",
       "      <td>44842144@N03</td>\n",
       "      <td>44842144@N03</td>\n",
       "      <td>...</td>\n",
       "      <td>0.0</td>\n",
       "      <td>NaN</td>\n",
       "      <td>NaN</td>\n",
       "      <td>NaN</td>\n",
       "      <td>NaN</td>\n",
       "      <td>standard</td>\n",
       "      <td>0.000000e+00</td>\n",
       "      <td>NaN</td>\n",
       "      <td>NaN</td>\n",
       "      <td>NaN</td>\n",
       "    </tr>\n",
       "    <tr>\n",
       "      <th>6</th>\n",
       "      <td>6</td>\n",
       "      <td>6.0</td>\n",
       "      <td>6.0</td>\n",
       "      <td>6.0</td>\n",
       "      <td>6.0</td>\n",
       "      <td>6.0</td>\n",
       "      <td>6.0</td>\n",
       "      <td>ok</td>\n",
       "      <td>45008553@N04</td>\n",
       "      <td>45008553@N04</td>\n",
       "      <td>...</td>\n",
       "      <td>0.0</td>\n",
       "      <td>Bangkok, Hanoi, Jakarta</td>\n",
       "      <td>+07:00</td>\n",
       "      <td>Asia/Bangkok</td>\n",
       "      <td>55.0</td>\n",
       "      <td>NaN</td>\n",
       "      <td>NaN</td>\n",
       "      <td>NaN</td>\n",
       "      <td>NaN</td>\n",
       "      <td>NaN</td>\n",
       "    </tr>\n",
       "    <tr>\n",
       "      <th>7</th>\n",
       "      <td>7</td>\n",
       "      <td>7.0</td>\n",
       "      <td>7.0</td>\n",
       "      <td>7.0</td>\n",
       "      <td>7.0</td>\n",
       "      <td>7.0</td>\n",
       "      <td>7.0</td>\n",
       "      <td>ok</td>\n",
       "      <td>158117692@N02</td>\n",
       "      <td>158117692@N02</td>\n",
       "      <td>...</td>\n",
       "      <td>0.0</td>\n",
       "      <td>NaN</td>\n",
       "      <td>NaN</td>\n",
       "      <td>NaN</td>\n",
       "      <td>NaN</td>\n",
       "      <td>standard</td>\n",
       "      <td>1.614069e+09</td>\n",
       "      <td>NaN</td>\n",
       "      <td>NaN</td>\n",
       "      <td>NaN</td>\n",
       "    </tr>\n",
       "    <tr>\n",
       "      <th>8</th>\n",
       "      <td>8</td>\n",
       "      <td>8.0</td>\n",
       "      <td>8.0</td>\n",
       "      <td>8.0</td>\n",
       "      <td>8.0</td>\n",
       "      <td>8.0</td>\n",
       "      <td>8.0</td>\n",
       "      <td>ok</td>\n",
       "      <td>118071797@N03</td>\n",
       "      <td>118071797@N03</td>\n",
       "      <td>...</td>\n",
       "      <td>0.0</td>\n",
       "      <td>NaN</td>\n",
       "      <td>NaN</td>\n",
       "      <td>NaN</td>\n",
       "      <td>NaN</td>\n",
       "      <td>standard</td>\n",
       "      <td>0.000000e+00</td>\n",
       "      <td>NaN</td>\n",
       "      <td>NaN</td>\n",
       "      <td>NaN</td>\n",
       "    </tr>\n",
       "    <tr>\n",
       "      <th>9</th>\n",
       "      <td>9</td>\n",
       "      <td>9.0</td>\n",
       "      <td>9.0</td>\n",
       "      <td>9.0</td>\n",
       "      <td>9.0</td>\n",
       "      <td>9.0</td>\n",
       "      <td>9.0</td>\n",
       "      <td>ok</td>\n",
       "      <td>169491036@N06</td>\n",
       "      <td>169491036@N06</td>\n",
       "      <td>...</td>\n",
       "      <td>0.0</td>\n",
       "      <td>NaN</td>\n",
       "      <td>NaN</td>\n",
       "      <td>NaN</td>\n",
       "      <td>NaN</td>\n",
       "      <td>NaN</td>\n",
       "      <td>NaN</td>\n",
       "      <td>NaN</td>\n",
       "      <td>NaN</td>\n",
       "      <td>NaN</td>\n",
       "    </tr>\n",
       "  </tbody>\n",
       "</table>\n",
       "<p>10 rows × 38 columns</p>\n",
       "</div>"
      ],
      "text/plain": [
       "   Unnamed: 0.6  Unnamed: 0.5  Unnamed: 0.4  Unnamed: 0.3  Unnamed: 0.2  \\\n",
       "0             0           0.0           0.0           0.0           0.0   \n",
       "1             1           1.0           1.0           1.0           1.0   \n",
       "2             2           2.0           2.0           2.0           2.0   \n",
       "3             3           3.0           3.0           3.0           3.0   \n",
       "4             4           4.0           4.0           4.0           4.0   \n",
       "5             5           5.0           5.0           5.0           5.0   \n",
       "6             6           6.0           6.0           6.0           6.0   \n",
       "7             7           7.0           7.0           7.0           7.0   \n",
       "8             8           8.0           8.0           8.0           8.0   \n",
       "9             9           9.0           9.0           9.0           9.0   \n",
       "\n",
       "   Unnamed: 0.1  Unnamed: 0 stat      person_id    person_nsid  ...  \\\n",
       "0           0.0         0.0   ok  197843899@N04  197843899@N04  ...   \n",
       "1           1.0         1.0   ok   26745338@N06   26745338@N06  ...   \n",
       "2           2.0         2.0   ok   31331368@N00   31331368@N00  ...   \n",
       "3           3.0         3.0   ok  122687277@N03  122687277@N03  ...   \n",
       "4           4.0         4.0   ok  196275842@N08  196275842@N08  ...   \n",
       "5           5.0         5.0   ok   44842144@N03   44842144@N03  ...   \n",
       "6           6.0         6.0   ok   45008553@N04   45008553@N04  ...   \n",
       "7           7.0         7.0   ok  158117692@N02  158117692@N02  ...   \n",
       "8           8.0         8.0   ok  118071797@N03  118071797@N03  ...   \n",
       "9           9.0         9.0   ok  169491036@N06  169491036@N06  ...   \n",
       "\n",
       "   person_has_free_educational_resources        person_timezone_label  \\\n",
       "0                                    0.0                          NaN   \n",
       "1                                    0.0                     Brasilia   \n",
       "2                                    0.0  Canberra, Melbourne, Sydney   \n",
       "3                                    0.0                          NaN   \n",
       "4                                    0.0                          NaN   \n",
       "5                                    0.0                          NaN   \n",
       "6                                    0.0      Bangkok, Hanoi, Jakarta   \n",
       "7                                    0.0                          NaN   \n",
       "8                                    0.0                          NaN   \n",
       "9                                    0.0                          NaN   \n",
       "\n",
       "   person_timezone_offset  person_timezone_timezone_id  \\\n",
       "0                     NaN                          NaN   \n",
       "1                  -03:00            America/Sao_Paulo   \n",
       "2                  +10:00           Australia/Canberra   \n",
       "3                     NaN                          NaN   \n",
       "4                     NaN                          NaN   \n",
       "5                     NaN                          NaN   \n",
       "6                  +07:00                 Asia/Bangkok   \n",
       "7                     NaN                          NaN   \n",
       "8                     NaN                          NaN   \n",
       "9                     NaN                          NaN   \n",
       "\n",
       "  person_timezone_timezone  person_pro_badge person_expire  \\\n",
       "0                      NaN               NaN           NaN   \n",
       "1                     20.0               NaN           NaN   \n",
       "2                     68.0          standard  0.000000e+00   \n",
       "3                      NaN          standard  0.000000e+00   \n",
       "4                      NaN               NaN           NaN   \n",
       "5                      NaN          standard  0.000000e+00   \n",
       "6                     55.0               NaN           NaN   \n",
       "7                      NaN          standard  1.614069e+09   \n",
       "8                      NaN          standard  0.000000e+00   \n",
       "9                      NaN               NaN           NaN   \n",
       "\n",
       "  person_mbox_sha1sum__content code message  \n",
       "0                          NaN  NaN     NaN  \n",
       "1                          NaN  NaN     NaN  \n",
       "2                          NaN  NaN     NaN  \n",
       "3                          NaN  NaN     NaN  \n",
       "4                          NaN  NaN     NaN  \n",
       "5                          NaN  NaN     NaN  \n",
       "6                          NaN  NaN     NaN  \n",
       "7                          NaN  NaN     NaN  \n",
       "8                          NaN  NaN     NaN  \n",
       "9                          NaN  NaN     NaN  \n",
       "\n",
       "[10 rows x 38 columns]"
      ]
     },
     "execution_count": 3,
     "metadata": {},
     "output_type": "execute_result"
    }
   ],
   "source": [
    "# check df\n",
    "df_user_data.head(10)"
   ]
  },
  {
   "cell_type": "markdown",
   "metadata": {},
   "source": [
    "## Drop unnecessary columns"
   ]
  },
  {
   "cell_type": "code",
   "execution_count": 4,
   "metadata": {},
   "outputs": [
    {
     "name": "stdout",
     "output_type": "stream",
     "text": [
      "0.0    38777\n",
      "Name: person_is_deleted, dtype: int64\n",
      "24\n"
     ]
    }
   ],
   "source": [
    "# check value count for is deleted\n",
    "print(df_user_data.person_is_deleted.value_counts())\n",
    "print(df_user_data.person_is_deleted.isna().sum())\n",
    "# because there is only 1 value (False) and 24 NaN I decided to drop the column"
   ]
  },
  {
   "cell_type": "code",
   "execution_count": 5,
   "metadata": {},
   "outputs": [],
   "source": [
    "# list of columns to drop\n",
    "columns_to_drop = ['Unnamed: 0.6','Unnamed: 0.5','Unnamed: 0.4', 'Unnamed: 0.3',\n",
    "       'Unnamed: 0.2', 'Unnamed: 0.1', 'Unnamed: 0', 'stat','person_nsid','person_is_deleted',\n",
    "       'person_iconserver','person_iconfarm','person_has_stats',\n",
    "       'person_description__content',\n",
    "       'person_photosurl__content', 'person_profileurl__content',\n",
    "       'person_mobileurl__content','person_has_adfree', 'person_has_free_standard_shipping',\n",
    "       'person_has_free_educational_resources','person_pro_badge','person_mbox_sha1sum__content','message','person_expire', 'code', 'person_timezone_timezone']"
   ]
  },
  {
   "cell_type": "code",
   "execution_count": 6,
   "metadata": {},
   "outputs": [
    {
     "data": {
      "text/plain": [
       "25"
      ]
     },
     "execution_count": 6,
     "metadata": {},
     "output_type": "execute_result"
    }
   ],
   "source": [
    "# check if its the right number\n",
    "len(columns_to_drop)"
   ]
  },
  {
   "cell_type": "code",
   "execution_count": 7,
   "metadata": {},
   "outputs": [],
   "source": [
    "# drop 25 columns\n",
    "df_user_data_cleaned = df_user_data.drop(columns=columns_to_drop)"
   ]
  },
  {
   "cell_type": "code",
   "execution_count": 8,
   "metadata": {},
   "outputs": [
    {
     "data": {
      "text/plain": [
       "Index(['person_id', 'person_ispro', 'person_path_alias',\n",
       "       'person_username__content', 'person_realname__content',\n",
       "       'person_location__content', 'person_photos_firstdatetaken__content',\n",
       "       'person_photos_firstdate__content', 'person_photos_count__content',\n",
       "       'person_timezone_label', 'person_timezone_offset',\n",
       "       'person_timezone_timezone_id', 'person_timezone_timezone'],\n",
       "      dtype='object')"
      ]
     },
     "execution_count": 8,
     "metadata": {},
     "output_type": "execute_result"
    }
   ],
   "source": [
    "# check columns\n",
    "df_user_data_cleaned.columns"
   ]
  },
  {
   "cell_type": "markdown",
   "metadata": {},
   "source": [
    "## Alter column names"
   ]
  },
  {
   "cell_type": "code",
   "execution_count": 9,
   "metadata": {},
   "outputs": [],
   "source": [
    "# replace 'person' with user and delete '_content'\n",
    "df_user_data_cleaned.columns = df_user_data_cleaned.columns.str.replace('person','user').str.replace('__content','')\n"
   ]
  },
  {
   "cell_type": "code",
   "execution_count": 10,
   "metadata": {},
   "outputs": [
    {
     "data": {
      "text/plain": [
       "Index(['user_id', 'user_ispro', 'user_path_alias', 'user_username',\n",
       "       'user_realname', 'user_location', 'user_photos_firstdatetaken',\n",
       "       'user_photos_firstdate', 'user_photos_count', 'user_timezone_label',\n",
       "       'user_timezone_offset', 'user_timezone_timezone_id',\n",
       "       'user_timezone_timezone'],\n",
       "      dtype='object')"
      ]
     },
     "execution_count": 10,
     "metadata": {},
     "output_type": "execute_result"
    }
   ],
   "source": [
    "df_user_data_cleaned.columns"
   ]
  },
  {
   "cell_type": "markdown",
   "metadata": {},
   "source": [
    "## delete NaN from user_location, bc it's our most important column"
   ]
  },
  {
   "cell_type": "code",
   "execution_count": 11,
   "metadata": {},
   "outputs": [],
   "source": [
    "# clear NaN values from user_locations\n",
    "df_user_data_cleaned = df_user_data_cleaned.dropna(subset='user_location')\n",
    "df_user_data_cleaned = df_user_data_cleaned.reset_index(drop=True)"
   ]
  },
  {
   "cell_type": "code",
   "execution_count": 12,
   "metadata": {},
   "outputs": [
    {
     "data": {
      "text/plain": [
       "(14469, 13)"
      ]
     },
     "execution_count": 12,
     "metadata": {},
     "output_type": "execute_result"
    }
   ],
   "source": [
    "# check how much is still there\n",
    "df_user_data_cleaned.shape"
   ]
  },
  {
   "cell_type": "code",
   "execution_count": 13,
   "metadata": {},
   "outputs": [
    {
     "data": {
      "text/plain": [
       "38801"
      ]
     },
     "execution_count": 13,
     "metadata": {},
     "output_type": "execute_result"
    }
   ],
   "source": [
    "len(df_user_data)"
   ]
  },
  {
   "cell_type": "code",
   "execution_count": 14,
   "metadata": {},
   "outputs": [
    {
     "name": "stdout",
     "output_type": "stream",
     "text": [
      "37.29027602381382\n"
     ]
    }
   ],
   "source": [
    "# check percentage of leftover data\n",
    "x = (len(df_user_data_cleaned)/len(df_user_data))*100\n",
    "print(x)"
   ]
  },
  {
   "cell_type": "markdown",
   "metadata": {},
   "source": [
    "## alter dtypes"
   ]
  },
  {
   "cell_type": "code",
   "execution_count": 15,
   "metadata": {},
   "outputs": [
    {
     "name": "stdout",
     "output_type": "stream",
     "text": [
      "<class 'pandas.core.frame.DataFrame'>\n",
      "RangeIndex: 14469 entries, 0 to 14468\n",
      "Data columns (total 13 columns):\n",
      " #   Column                      Non-Null Count  Dtype  \n",
      "---  ------                      --------------  -----  \n",
      " 0   user_id                     14469 non-null  object \n",
      " 1   user_ispro                  14469 non-null  float64\n",
      " 2   user_path_alias             9890 non-null   object \n",
      " 3   user_username               14469 non-null  object \n",
      " 4   user_realname               12591 non-null  object \n",
      " 5   user_location               14469 non-null  object \n",
      " 6   user_photos_firstdatetaken  14468 non-null  object \n",
      " 7   user_photos_firstdate       14468 non-null  float64\n",
      " 8   user_photos_count           14469 non-null  float64\n",
      " 9   user_timezone_label         13283 non-null  object \n",
      " 10  user_timezone_offset        13283 non-null  object \n",
      " 11  user_timezone_timezone_id   13283 non-null  object \n",
      " 12  user_timezone_timezone      13283 non-null  float64\n",
      "dtypes: float64(4), object(9)\n",
      "memory usage: 1.4+ MB\n"
     ]
    }
   ],
   "source": [
    "# check dtypes\n",
    "df_user_data_cleaned.info()"
   ]
  },
  {
   "cell_type": "code",
   "execution_count": 16,
   "metadata": {},
   "outputs": [],
   "source": [
    "# user_id to string\n",
    "df_user_data_cleaned.user_id=df_user_data_cleaned.user_id.astype('string')"
   ]
  },
  {
   "cell_type": "code",
   "execution_count": 17,
   "metadata": {},
   "outputs": [
    {
     "data": {
      "text/plain": [
       "0         26745338@N06\n",
       "1         31331368@N00\n",
       "2        122687277@N03\n",
       "3         45008553@N04\n",
       "4        158117692@N02\n",
       "             ...      \n",
       "14464    131418876@N03\n",
       "14465     42905557@N00\n",
       "14466     16939187@N06\n",
       "14467     97454045@N07\n",
       "14468     35939355@N04\n",
       "Name: user_id, Length: 14469, dtype: string"
      ]
     },
     "execution_count": 17,
     "metadata": {},
     "output_type": "execute_result"
    }
   ],
   "source": [
    "df_user_data_cleaned.user_id"
   ]
  },
  {
   "cell_type": "code",
   "execution_count": 18,
   "metadata": {},
   "outputs": [],
   "source": [
    "# user_ispro to bool\n",
    "df_user_data_cleaned.user_ispro=df_user_data_cleaned.user_ispro.astype('bool')"
   ]
  },
  {
   "cell_type": "code",
   "execution_count": 19,
   "metadata": {},
   "outputs": [],
   "source": [
    "# user_location','user_realname','user_username','user_path_alias to string\n",
    "df_user_data_cleaned[['user_location','user_realname','user_username','user_path_alias']] = df_user_data_cleaned[['user_location','user_realname','user_username','user_path_alias']].astype('string')"
   ]
  },
  {
   "cell_type": "code",
   "execution_count": 20,
   "metadata": {},
   "outputs": [],
   "source": [
    "# user_photos_count to int\n",
    "df_user_data_cleaned.user_photos_count=df_user_data_cleaned.user_photos_count.astype('int')"
   ]
  },
  {
   "cell_type": "code",
   "execution_count": 21,
   "metadata": {},
   "outputs": [
    {
     "data": {
      "text/plain": [
       "0        1.212696e+09\n",
       "1        1.099811e+09\n",
       "2        1.397393e+09\n",
       "3        1.259290e+09\n",
       "4        1.515479e+09\n",
       "             ...     \n",
       "14464    1.424362e+09\n",
       "14465    1.134207e+09\n",
       "14466    1.197543e+09\n",
       "14467    1.371249e+09\n",
       "14468    1.251922e+09\n",
       "Name: user_photos_firstdate, Length: 14469, dtype: float64"
      ]
     },
     "execution_count": 21,
     "metadata": {},
     "output_type": "execute_result"
    }
   ],
   "source": [
    "df_user_data_cleaned.user_photos_firstdate"
   ]
  },
  {
   "cell_type": "code",
   "execution_count": 22,
   "metadata": {},
   "outputs": [],
   "source": [
    "# user_firstdate unix to datetime\n",
    "df_user_data_cleaned.user_photos_firstdate = pd.to_datetime(df_user_data_cleaned.user_photos_firstdate,unit='s',errors='coerce')"
   ]
  },
  {
   "cell_type": "code",
   "execution_count": 27,
   "metadata": {},
   "outputs": [
    {
     "name": "stdout",
     "output_type": "stream",
     "text": [
      "<class 'pandas.core.frame.DataFrame'>\n",
      "RangeIndex: 14469 entries, 0 to 14468\n",
      "Data columns (total 13 columns):\n",
      " #   Column                      Non-Null Count  Dtype         \n",
      "---  ------                      --------------  -----         \n",
      " 0   user_id                     14469 non-null  string        \n",
      " 1   user_ispro                  14469 non-null  bool          \n",
      " 2   user_path_alias             9890 non-null   string        \n",
      " 3   user_username               14469 non-null  string        \n",
      " 4   user_realname               12591 non-null  string        \n",
      " 5   user_location               14469 non-null  string        \n",
      " 6   user_photos_firstdatetaken  14468 non-null  string        \n",
      " 7   user_photos_firstdate       14468 non-null  datetime64[ns]\n",
      " 8   user_photos_count           14469 non-null  int64         \n",
      " 9   user_timezone_label         13283 non-null  object        \n",
      " 10  user_timezone_offset        13283 non-null  object        \n",
      " 11  user_timezone_timezone_id   13283 non-null  object        \n",
      " 12  user_timezone_timezone      13283 non-null  float64       \n",
      "dtypes: bool(1), datetime64[ns](1), float64(1), int64(1), object(3), string(6)\n",
      "memory usage: 1.3+ MB\n"
     ]
    }
   ],
   "source": [
    "df_user_data_cleaned.info()"
   ]
  },
  {
   "cell_type": "code",
   "execution_count": 25,
   "metadata": {},
   "outputs": [
    {
     "data": {
      "text/plain": [
       "pandas.core.series.Series"
      ]
     },
     "execution_count": 25,
     "metadata": {},
     "output_type": "execute_result"
    }
   ],
   "source": [
    "# check type\n",
    "type(df_user_data_cleaned.user_photos_firstdatetaken)"
   ]
  },
  {
   "cell_type": "code",
   "execution_count": 26,
   "metadata": {},
   "outputs": [],
   "source": [
    "# alter to string\n",
    "df_user_data_cleaned.user_photos_firstdatetaken = df_user_data_cleaned.user_photos_firstdatetaken.astype('string')"
   ]
  },
  {
   "cell_type": "code",
   "execution_count": null,
   "metadata": {},
   "outputs": [],
   "source": [
    "df_user_data_cleaned.user_photos_firstdatetaken[9]"
   ]
  },
  {
   "cell_type": "code",
   "execution_count": null,
   "metadata": {},
   "outputs": [],
   "source": [
    "len(df_user_data_cleaned.user_photos_firstdatetaken[37])"
   ]
  },
  {
   "cell_type": "code",
   "execution_count": null,
   "metadata": {},
   "outputs": [],
   "source": [
    "# for i, date_taken in enumerate(df_user_data_cleaned['user_photos_firstdatetaken']):\n",
    "#     length = len(date_taken)\n",
    "#     if length != 19:\n",
    "#         print(f\"Row {i + 1}: Length of 'user_photos_firstdatetaken': {length}\")\n",
    "    \n"
   ]
  },
  {
   "cell_type": "code",
   "execution_count": null,
   "metadata": {},
   "outputs": [],
   "source": [
    "# df_user_data_cleaned = df_user_data_cleaned.dropna(subset='user_photos_firstdatetaken')\n",
    "# creepy_dates=[]\n",
    "# for i in df_user_data_cleaned.user_photos_firstdatetaken:\n",
    "#     if len(i) is not len(df_user_data_cleaned.user_photos_firstdatetaken[1]) :\n",
    "#         creepy_dates.append(i) \n",
    "#         print('jo')\n",
    "#     else:\n",
    "#         print('buh')"
   ]
  },
  {
   "cell_type": "code",
   "execution_count": null,
   "metadata": {},
   "outputs": [],
   "source": [
    "# creepy_dates = []\n",
    "# for i in df_user_data_cleaned.user_photos_firstdatetaken:\n",
    "#     if len(i) == 19:\n",
    "#         print('jo')\n",
    "#     else:\n",
    "#         creepy_dates.append(i)\n",
    "#         print('buh')"
   ]
  },
  {
   "cell_type": "code",
   "execution_count": null,
   "metadata": {},
   "outputs": [],
   "source": [
    "#len(creepy_dates)"
   ]
  },
  {
   "cell_type": "code",
   "execution_count": null,
   "metadata": {},
   "outputs": [],
   "source": [
    "# creepy_dates = df_user_data_cleaned['user_photos_firstdatetaken'].apply(lambda x: len(x) != '19')\n",
    "\n",
    "# for i, is_creepy in enumerate(creepy_dates):\n",
    "#     if is_creepy:\n",
    "#         print(f'Element {i} is creepy')\n",
    "#     else:\n",
    "#         print(f'Element {i} is not creepy')\n"
   ]
  },
  {
   "cell_type": "code",
   "execution_count": null,
   "metadata": {},
   "outputs": [],
   "source": [
    "\n",
    "# for i, row in df_user_data_cleaned.iterrows():\n",
    "#     try:\n",
    "#         df_user_data_cleaned.user_photos_firstdatetaken=pd.to_datetime(row.get('user_photos_firstdatetaken'), format='%Y-%m-%d %H:%M:%S')\n",
    "#     except ValueError:\n",
    "#         print(str(i), row.get('user_photos_firstdatetaken'))"
   ]
  },
  {
   "cell_type": "code",
   "execution_count": null,
   "metadata": {},
   "outputs": [],
   "source": [
    "# df_user_data_cleaned = df_user_data_cleaned.dropna(subset='user_photos_firstdatetaken')\n",
    "# counter= 0\n",
    "# for i,row in enumerate(df_user_data_cleaned.user_photos_firstdatetaken):\n",
    "#     if row == '0000-00-00 00:00:00':\n",
    "#         counter+= 1\n",
    "#         print(i,row,counter)"
   ]
  },
  {
   "cell_type": "code",
   "execution_count": 28,
   "metadata": {},
   "outputs": [
    {
     "data": {
      "text/plain": [
       "9     1840-01-01 00:00:00\n",
       "10    2000-01-01 00:00:00\n",
       "11    0000-00-00 00:00:00\n",
       "12    0000-00-00 00:00:00\n",
       "13    1980-01-01 00:00:07\n",
       "14    1985-03-15 00:00:00\n",
       "Name: user_photos_firstdatetaken, dtype: string"
      ]
     },
     "execution_count": 28,
     "metadata": {},
     "output_type": "execute_result"
    }
   ],
   "source": [
    "df_user_data_cleaned.user_photos_firstdatetaken[9:15]"
   ]
  },
  {
   "cell_type": "code",
   "execution_count": 29,
   "metadata": {},
   "outputs": [],
   "source": [
    "df_user_data_cleaned.user_photos_firstdatetaken = pd.to_datetime(df_user_data_cleaned.user_photos_firstdatetaken, dayfirst=True,format='%Y-%m-%d %H:%M:%S',errors='coerce')"
   ]
  },
  {
   "cell_type": "code",
   "execution_count": 31,
   "metadata": {},
   "outputs": [
    {
     "data": {
      "text/plain": [
       "13681"
      ]
     },
     "execution_count": 31,
     "metadata": {},
     "output_type": "execute_result"
    }
   ],
   "source": [
    "# because coerce replaces error values with NaT \n",
    "# firstdatetaken is mysql datetime that starts with 1000-00-00 00:00:00 we lost 787 values\n",
    "df_user_data_cleaned.user_photos_firstdatetaken.count()"
   ]
  },
  {
   "cell_type": "code",
   "execution_count": null,
   "metadata": {},
   "outputs": [],
   "source": [
    "#df_user_data_cleaned.user_photos_firstdatetaken = df_user_data_cleaned.user_photos_firstdatetaken.fillna('0000-00-00 00:00:00')"
   ]
  },
  {
   "cell_type": "code",
   "execution_count": null,
   "metadata": {},
   "outputs": [],
   "source": [
    "#df_user_data_cleaned.user_location"
   ]
  },
  {
   "cell_type": "code",
   "execution_count": null,
   "metadata": {},
   "outputs": [],
   "source": [
    "#df_user_data_cleaned.user_photos_firstdatetaken = df_user_data_cleaned.user_photos_firstdatetaken.astype('str')"
   ]
  },
  {
   "cell_type": "code",
   "execution_count": null,
   "metadata": {},
   "outputs": [],
   "source": [
    "#failed because of '0000-00-00 00:00:00'\n",
    "#pd.to_datetime(df_user_data_cleaned.user_photos_firstdatetaken, dayfirst=True)"
   ]
  },
  {
   "cell_type": "code",
   "execution_count": null,
   "metadata": {},
   "outputs": [],
   "source": [
    "#df_user_data_cleaned.user_photos_firstdatetaken = df_user_data_cleaned.user_photos_firstdatetaken.str.replace('0000-00-00 00:00:00','1800-01-01 00:00:00')"
   ]
  },
  {
   "cell_type": "code",
   "execution_count": null,
   "metadata": {},
   "outputs": [],
   "source": [
    "#df_user_data_cleaned.user_photos_firstdatetaken = df_user_data_cleaned.user_photos_firstdatetaken.str.replace('0-01-01 00:00:00','1800-01-01 00:00:00')"
   ]
  },
  {
   "cell_type": "code",
   "execution_count": null,
   "metadata": {},
   "outputs": [],
   "source": [
    "#df_user_data_cleaned.user_photos_firstdatetaken = df_user_data_cleaned.user_photos_firstdatetaken.str.replace('1841800-01-01 00:00:00','1800-01-01 00:00:00')"
   ]
  },
  {
   "cell_type": "code",
   "execution_count": null,
   "metadata": {},
   "outputs": [],
   "source": [
    "#df_user_data_cleaned.user_photos_firstdatetaken = df_user_data_cleaned.user_photos_firstdatetaken.str.replace('2001800-01-01 00:00:00','1800-01-01 00:00:00')"
   ]
  },
  {
   "cell_type": "code",
   "execution_count": null,
   "metadata": {},
   "outputs": [],
   "source": [
    "#df_user_data_cleaned.user_photos_firstdatetaken = df_user_data_cleaned.user_photos_firstdatetaken.str.replace('1801800-01-01 00:00:00','1800-01-01 00:00:00')"
   ]
  },
  {
   "cell_type": "code",
   "execution_count": null,
   "metadata": {},
   "outputs": [],
   "source": [
    "#df_user_data_cleaned.user_photos_firstdatetaken = df_user_data_cleaned.user_photos_firstdatetaken.str.replace('1891800-01-01 00:00:00','1800-01-01 00:00:00')"
   ]
  },
  {
   "cell_type": "code",
   "execution_count": 33,
   "metadata": {},
   "outputs": [
    {
     "name": "stdout",
     "output_type": "stream",
     "text": [
      "<class 'pandas.core.frame.DataFrame'>\n",
      "RangeIndex: 14469 entries, 0 to 14468\n",
      "Data columns (total 13 columns):\n",
      " #   Column                      Non-Null Count  Dtype         \n",
      "---  ------                      --------------  -----         \n",
      " 0   user_id                     14469 non-null  string        \n",
      " 1   user_ispro                  14469 non-null  bool          \n",
      " 2   user_path_alias             9890 non-null   string        \n",
      " 3   user_username               14469 non-null  string        \n",
      " 4   user_realname               12591 non-null  string        \n",
      " 5   user_location               14469 non-null  string        \n",
      " 6   user_photos_firstdatetaken  13681 non-null  datetime64[ns]\n",
      " 7   user_photos_firstdate       14468 non-null  datetime64[ns]\n",
      " 8   user_photos_count           14469 non-null  int64         \n",
      " 9   user_timezone_label         13283 non-null  object        \n",
      " 10  user_timezone_offset        13283 non-null  object        \n",
      " 11  user_timezone_timezone_id   13283 non-null  object        \n",
      " 12  user_timezone_timezone      13283 non-null  float64       \n",
      "dtypes: bool(1), datetime64[ns](2), float64(1), int64(1), object(3), string(5)\n",
      "memory usage: 1.3+ MB\n"
     ]
    }
   ],
   "source": [
    "df_user_data_cleaned.info()"
   ]
  },
  {
   "cell_type": "code",
   "execution_count": null,
   "metadata": {},
   "outputs": [],
   "source": [
    "df_user_data_cleaned.duplicated().value_counts()"
   ]
  },
  {
   "cell_type": "code",
   "execution_count": null,
   "metadata": {},
   "outputs": [],
   "source": [
    "# check format of user_location\n",
    "df_user_data_cleaned.user_location"
   ]
  },
  {
   "cell_type": "code",
   "execution_count": null,
   "metadata": {},
   "outputs": [],
   "source": [
    "# try to split user_location\n",
    "df_split = df_user_data_cleaned.user_location.str.split(', ', expand=True)\n",
    "df_split.sample(2)"
   ]
  },
  {
   "cell_type": "code",
   "execution_count": null,
   "metadata": {},
   "outputs": [],
   "source": [
    "#catch some outliers to identify the split problem\n",
    "df_user_data_cleaned.iloc[8048:8053]"
   ]
  },
  {
   "cell_type": "code",
   "execution_count": null,
   "metadata": {},
   "outputs": [],
   "source": [
    "# split without expand=true\n",
    "df_split = df_user_data_cleaned.user_location.str.split(', ')"
   ]
  },
  {
   "cell_type": "code",
   "execution_count": null,
   "metadata": {},
   "outputs": [],
   "source": [
    "# check whats going on with 21 columns\n",
    "df_split.sample(15)"
   ]
  },
  {
   "cell_type": "code",
   "execution_count": null,
   "metadata": {},
   "outputs": [],
   "source": [
    "# check type of df_split\n",
    "type(df_split)"
   ]
  },
  {
   "cell_type": "code",
   "execution_count": null,
   "metadata": {},
   "outputs": [],
   "source": [
    "# change dt to list\n",
    "df_split.to_list()"
   ]
  },
  {
   "cell_type": "code",
   "execution_count": null,
   "metadata": {},
   "outputs": [],
   "source": [
    "one_list=[]\n",
    "for x in df_split:\n",
    "    if len(x)<=1:\n",
    "        one_list.append(x)"
   ]
  },
  {
   "cell_type": "code",
   "execution_count": null,
   "metadata": {},
   "outputs": [],
   "source": [
    "df_split.to_list()"
   ]
  },
  {
   "cell_type": "code",
   "execution_count": null,
   "metadata": {},
   "outputs": [],
   "source": [
    "three_list=[]\n",
    "for x in df_split:\n",
    "    if len(x)>=3:\n",
    "        three_list.append(x)"
   ]
  },
  {
   "cell_type": "code",
   "execution_count": null,
   "metadata": {},
   "outputs": [],
   "source": [
    "three_list"
   ]
  },
  {
   "cell_type": "code",
   "execution_count": null,
   "metadata": {},
   "outputs": [],
   "source": [
    "two_list=[]\n",
    "for x in df_split:\n",
    "    if len(x)>=2:\n",
    "        two_list.append(x)"
   ]
  },
  {
   "cell_type": "code",
   "execution_count": null,
   "metadata": {},
   "outputs": [],
   "source": [
    "two_list"
   ]
  },
  {
   "cell_type": "code",
   "execution_count": null,
   "metadata": {},
   "outputs": [],
   "source": [
    "four_list=[]\n",
    "for x in df_split:\n",
    "    if len(x)>=4:\n",
    "        four_list.append(x)"
   ]
  },
  {
   "cell_type": "code",
   "execution_count": null,
   "metadata": {},
   "outputs": [],
   "source": [
    "twone_list=[]\n",
    "for x in df_split:\n",
    "    if len(x)>=21:\n",
    "        twone_list.append(x)"
   ]
  },
  {
   "cell_type": "code",
   "execution_count": null,
   "metadata": {},
   "outputs": [],
   "source": [
    "twone_list"
   ]
  },
  {
   "cell_type": "code",
   "execution_count": null,
   "metadata": {},
   "outputs": [],
   "source": [
    "print(len(one_list))\n",
    "print(len(two_list))\n",
    "print(len(three_list))\n",
    "print(len(four_list))"
   ]
  },
  {
   "cell_type": "code",
   "execution_count": null,
   "metadata": {},
   "outputs": [],
   "source": [
    "one_list"
   ]
  },
  {
   "cell_type": "code",
   "execution_count": null,
   "metadata": {},
   "outputs": [],
   "source": [
    "df_user_data_cleaned['user_city']"
   ]
  },
  {
   "cell_type": "code",
   "execution_count": null,
   "metadata": {},
   "outputs": [],
   "source": [
    "# split location into country and city\n",
    "df_user_data_cleaned[['user_city','user_country']] = df_user_data_cleaned.user_location.str.split(n=1, expand=True)[1]"
   ]
  },
  {
   "cell_type": "code",
   "execution_count": null,
   "metadata": {},
   "outputs": [],
   "source": [
    "df_user_data_cleaned[['user_city','user_country']] = df_user_data_cleaned.apply(lambda row: row['user_location'].split(), axis=1)"
   ]
  }
 ],
 "metadata": {
  "kernelspec": {
   "display_name": "nf_sql_cap",
   "language": "python",
   "name": "python3"
  },
  "language_info": {
   "codemirror_mode": {
    "name": "ipython",
    "version": 3
   },
   "file_extension": ".py",
   "mimetype": "text/x-python",
   "name": "python",
   "nbconvert_exporter": "python",
   "pygments_lexer": "ipython3",
   "version": "3.9.16"
  },
  "orig_nbformat": 4
 },
 "nbformat": 4,
 "nbformat_minor": 2
}
