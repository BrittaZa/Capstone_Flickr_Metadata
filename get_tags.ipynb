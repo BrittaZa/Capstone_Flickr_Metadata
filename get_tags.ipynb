{
 "cells": [
  {
   "cell_type": "code",
   "execution_count": null,
   "metadata": {},
   "outputs": [],
   "source": [
    "# Python modules\n",
    "import flickrapi\n",
    "import pandas as pd\n",
    "import os\n",
    "import json\n",
    "from dotenv import load_dotenv\n",
    "load_dotenv()\n",
    "import numpy as np\n",
    "\n",
    "# Import additional functions\n",
    "from flickr_functions import df_remove_dupes\n",
    "\n",
    "# Keys needed for API access\n",
    "api_key = os.getenv('flickr_api_key')\n",
    "api_secret = os.getenv('flickr_api_secret')\n",
    "\n",
    "# Flickr API object\n",
    "flickr = flickrapi.FlickrAPI(api_key, api_secret, format='parsed-json')\n",
    "\n",
    "# Data directory used to store CVS files\n",
    "data_dir = './data/'"
   ]
  },
  {
   "cell_type": "code",
   "execution_count": null,
   "metadata": {},
   "outputs": [],
   "source": [
    "# Load EXIF dataframe from CVS file\n",
    "df_exif = pd.read_csv(data_dir + 'df_photo_exif_final.csv', index_col=[0])\n",
    "#df_tags = pd.DataFrame(columns=['id', 'tags'])\n",
    "df_tags = pd.read_csv(data_dir + 'df_photo_tags.csv', index_col=[0])"
   ]
  },
  {
   "cell_type": "code",
   "execution_count": null,
   "metadata": {},
   "outputs": [],
   "source": [
    "# Go through ids from exif dataframe that are not in tags dataframe yet\n",
    "for index, row in df_exif[~df_exif.id.isin(df_tags.id)].iterrows():\n",
    "\n",
    "    # Catch exceptions so the script can live on\n",
    "    try:\n",
    "        # Asking the API for the list of tags of a image id\n",
    "        tags = flickr.tags.getListPhoto(photo_id = int(row.get('id'))).get('photo').get('tags').get('tag')\n",
    "        # Add the tags to a temporary list\n",
    "        tmp_list = []\n",
    "        for tag in tags:\n",
    "            tmp_list.append(tag.get('raw'))\n",
    "        # Add the tmp list to the bottom of the tags dataframe\n",
    "        df_tags.loc[len(df_tags)] = {'id': row.get('id'), 'tags': tmp_list}\n",
    "        # Print some info\n",
    "        print(f'{int(row.get(\"id\"))}: {tmp_list}')\n",
    "    except flickrapi.exceptions.FlickrError as ex:\n",
    "        # If accessing the API fails, print something out\n",
    "        print(f'!!! Error code: {ex.code} for id {int(row[\"id\"])}')\n",
    "\n",
    "# Write to csv\n",
    "df_tags.to_csv(data_dir + 'df_photo_tags.csv')"
   ]
  },
  {
   "cell_type": "code",
   "execution_count": null,
   "metadata": {},
   "outputs": [],
   "source": [
    "df_tags.to_csv(data_dir + 'df_photo_tags.csv')"
   ]
  }
 ],
 "metadata": {
  "kernelspec": {
   "display_name": "nf_base",
   "language": "python",
   "name": "python3"
  },
  "language_info": {
   "codemirror_mode": {
    "name": "ipython",
    "version": 3
   },
   "file_extension": ".py",
   "mimetype": "text/x-python",
   "name": "python",
   "nbconvert_exporter": "python",
   "pygments_lexer": "ipython3",
   "version": "3.9.7"
  },
  "orig_nbformat": 4
 },
 "nbformat": 4,
 "nbformat_minor": 2
}
