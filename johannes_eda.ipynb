{
 "cells": [
  {
   "cell_type": "code",
   "execution_count": null,
   "metadata": {},
   "outputs": [],
   "source": [
    "# Python modules\n",
    "import flickrapi\n",
    "import pandas as pd\n",
    "import os\n",
    "import json\n",
    "from dotenv import load_dotenv\n",
    "load_dotenv()\n",
    "import numpy as np\n",
    "import subprocess\n",
    "\n",
    "# Import additional functions\n",
    "from flickr_functions import df_remove_dupes\n",
    "\n",
    "# Keys needed for API access\n",
    "api_key = os.getenv('flickr_api_key')\n",
    "api_secret = os.getenv('flickr_api_secret')\n",
    "\n",
    "# Flickr API object\n",
    "flickr = flickrapi.FlickrAPI(api_key, api_secret, format='parsed-json')\n",
    "\n",
    "# Data directory used to store CVS files\n",
    "data_dir = './data/'\n",
    "\n",
    "# Load EXIF dataframe from CVS file\n",
    "df = pd.read_csv(data_dir + 'df_photo_exif_final.csv', index_col=[0])\n",
    "\n",
    "# Run command function\n",
    "def runcmd(cmd, verbose = False, *args, **kwargs):\n",
    "\n",
    "    process = subprocess.Popen(\n",
    "        cmd,\n",
    "        stdout = subprocess.PIPE,\n",
    "        stderr = subprocess.PIPE,\n",
    "        text = True,\n",
    "        shell = True\n",
    "    )\n",
    "    std_out, std_err = process.communicate()\n",
    "    if verbose:\n",
    "        print(std_out.strip(), std_err)\n",
    "    pass"
   ]
  },
  {
   "cell_type": "code",
   "execution_count": null,
   "metadata": {},
   "outputs": [],
   "source": [
    "df = df.reset_index()\n",
    "df = df.drop(columns='index')\n",
    "df.columns = df.columns.str.lower()\n",
    "df.columns = df.columns.str.replace(' ', '_')\n",
    "df['id'] = df['id'].astype(int)\n",
    "#df['image_width'] = df['image_width'].astype(int)\n",
    "#df['image_height'] = df['image_height'].astype(int)\n",
    "\n",
    "df = df.replace(to_replace='na', value=np.nan)"
   ]
  },
  {
   "cell_type": "code",
   "execution_count": null,
   "metadata": {},
   "outputs": [],
   "source": [
    "flickr = flickrapi.FlickrAPI(api_key, api_secret, format='parsed-json')\n",
    "for index, row in df[df['country'] == 'Faroe Islands'].iterrows():\n",
    "    sizes = flickr.photos.getSizes(photo_id = row.get('id'))\n",
    "    for size in sizes.get('sizes').get('size'):\n",
    "        print(size)\n",
    "        #if size.get('label') == 'Original':\n",
    "            #runcmd('wget ' + size.get('source'), verbose = True)"
   ]
  },
  {
   "cell_type": "code",
   "execution_count": null,
   "metadata": {},
   "outputs": [],
   "source": [
    "df['owner'].nunique() / df['owner'].count() * 100"
   ]
  },
  {
   "cell_type": "code",
   "execution_count": null,
   "metadata": {},
   "outputs": [],
   "source": [
    "df.notna().sum() * 100 / len(df)"
   ]
  },
  {
   "cell_type": "code",
   "execution_count": null,
   "metadata": {},
   "outputs": [],
   "source": [
    "df.info()"
   ]
  },
  {
   "cell_type": "code",
   "execution_count": null,
   "metadata": {},
   "outputs": [],
   "source": [
    "exif_data = flickr.photos.getExif(photo_id = 53095647615, photo_secret = 'secret').get('photo')\n",
    "exif_data"
   ]
  },
  {
   "cell_type": "code",
   "execution_count": null,
   "metadata": {},
   "outputs": [],
   "source": [
    "for x in exif_data.get('camera'):\n",
    "    print(x)"
   ]
  },
  {
   "cell_type": "code",
   "execution_count": null,
   "metadata": {},
   "outputs": [],
   "source": [
    "df.groupby(df['Make']).count().sort_values(by='id', ascending=False).head(25)"
   ]
  }
 ],
 "metadata": {
  "kernelspec": {
   "display_name": "nf_base",
   "language": "python",
   "name": "python3"
  },
  "language_info": {
   "codemirror_mode": {
    "name": "ipython",
    "version": 3
   },
   "file_extension": ".py",
   "mimetype": "text/x-python",
   "name": "python",
   "nbconvert_exporter": "python",
   "pygments_lexer": "ipython3",
   "version": "3.9.7"
  },
  "orig_nbformat": 4
 },
 "nbformat": 4,
 "nbformat_minor": 2
}
