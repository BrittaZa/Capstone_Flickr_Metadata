{
 "cells": [
  {
   "cell_type": "markdown",
   "metadata": {},
   "source": [
    "### Get reverse geocoding\n",
    "\n",
    "Going through the EXIF dataframe, query the Google Maps API for geo information (country, state(s), city)"
   ]
  },
  {
   "cell_type": "code",
   "execution_count": null,
   "metadata": {},
   "outputs": [],
   "source": [
    "# Python modules\n",
    "import googlemaps\n",
    "import pandas as pd\n",
    "import os\n",
    "from dotenv import load_dotenv\n",
    "load_dotenv()\n",
    "\n",
    "# Import additional functions\n",
    "from flickr_functions import df_remove_dupes\n",
    "\n",
    "# Keys needed for API access\n",
    "api_key = os.getenv('maps_api_key')\n",
    "\n",
    "# Configure maps access\n",
    "gmaps = googlemaps.Client(key=api_key)\n",
    "\n",
    "# Data directory used to store CVS files\n",
    "data_dir = './data/'"
   ]
  },
  {
   "cell_type": "code",
   "execution_count": null,
   "metadata": {},
   "outputs": [],
   "source": [
    "df_photo_exif = pd.read_csv(data_dir + 'df_photo_exif_final.csv', index_col=[0])\n",
    "i = 0\n",
    "for index, row in df_photo_exif.iterrows():\n",
    "\n",
    "    photo_id = int(row.get('id'))\n",
    "    lat = row.get('lat')\n",
    "    lon = row.get('lon')\n",
    "    country, admin_lvl1, admin_lvl2, city = '', '', '', ''\n",
    "    if row.get('lat') != 'na' and row.get('country') == 'tbd':\n",
    "        i += 1\n",
    "print(i)\n",
    "# 39217\n",
    "# 39231\n",
    "# 39078\n",
    "# 22197\n",
    "# 9893"
   ]
  },
  {
   "cell_type": "code",
   "execution_count": null,
   "metadata": {},
   "outputs": [],
   "source": [
    "# Load EXIF dataframe from CVS file\n",
    "df_photo_exif = pd.read_csv(data_dir + 'df_photo_exif_final.csv', index_col=[0])\n",
    "\n",
    "# Create columns if they don't exist\n",
    "if 'country' not in df_photo_exif.columns:\n",
    "    df_photo_exif['country'] = 'tbd'\n",
    "if 'admin_lvl1' not in df_photo_exif.columns:\n",
    "    df_photo_exif['admin_lvl1'] = 'tbd'\n",
    "if 'admin_lvl2' not in df_photo_exif.columns:\n",
    "    df_photo_exif['admin_lvl2'] = 'tbd'\n",
    "if 'city' not in df_photo_exif.columns:\n",
    "    df_photo_exif['city'] = 'tbd'\n",
    "\n",
    "df_tmp = pd.DataFrame(columns = ['id', 'country', 'admin_lvl1', 'admin_lvl2', 'city'])\n",
    "\n",
    "counter = 0\n",
    "\n",
    "# Iterate through dataframe and see if there's a value for lat and lon\n",
    "for index, row in df_photo_exif.iterrows():\n",
    "\n",
    "    photo_id = int(row.get('id'))\n",
    "    lat = row.get('lat')\n",
    "    lon = row.get('lon')\n",
    "    country, admin_lvl1, admin_lvl2, city = '', '', '', ''\n",
    "    \n",
    "    # Check if there is latitude and if cell has not been filled yet\n",
    "    if lat != 'na' and row.get('country') == 'tbd':\n",
    "\n",
    "        print(f'Looking up photo with lat/lon: {lat}/{lon}')\n",
    "    \n",
    "        # Query the API with the location data\n",
    "        geo = gmaps.reverse_geocode((lat, lon))\n",
    "    \n",
    "        # Get the data from the response\n",
    "        for comp in geo[0].get('address_components'):\n",
    "            if 'country' in comp.get('types'):\n",
    "                country = comp.get('long_name')\n",
    "            if 'administrative_area_level_1' in comp.get('types'):\n",
    "                admin_lvl1 = comp.get('long_name')\n",
    "            if 'administrative_area_level_2' in comp.get('types'):\n",
    "                admin_lvl2 = comp.get('long_name')\n",
    "            if 'locality' in comp.get('types'):\n",
    "                city = comp.get('long_name')\n",
    "            elif 'postal_town' in comp.get('types'):\n",
    "                city = comp.get('long_name')\n",
    "\n",
    "        print(counter, country, admin_lvl1, admin_lvl2, city)\n",
    "    \n",
    "        # Add the data to the dataframe\n",
    "        df_photo_exif.loc[index, 'country'] = country\n",
    "        df_photo_exif.loc[index, 'admin_lvl1'] = admin_lvl1\n",
    "        df_photo_exif.loc[index, 'admin_lvl2'] = admin_lvl2\n",
    "        df_photo_exif.loc[index, 'city'] = city\n",
    "\n",
    "        counter += 1"
   ]
  },
  {
   "cell_type": "code",
   "execution_count": null,
   "metadata": {},
   "outputs": [],
   "source": [
    "df_photo_exif.to_csv(data_dir + 'df_photo_exif_final.csv')"
   ]
  },
  {
   "cell_type": "code",
   "execution_count": null,
   "metadata": {},
   "outputs": [],
   "source": [
    "df_photo_exif.head(20)"
   ]
  },
  {
   "cell_type": "markdown",
   "metadata": {},
   "source": []
  }
 ],
 "metadata": {
  "kernelspec": {
   "display_name": "nf_base",
   "language": "python",
   "name": "python3"
  },
  "language_info": {
   "codemirror_mode": {
    "name": "ipython",
    "version": 3
   },
   "file_extension": ".py",
   "mimetype": "text/x-python",
   "name": "python",
   "nbconvert_exporter": "python",
   "pygments_lexer": "ipython3",
   "version": "3.9.17"
  },
  "orig_nbformat": 4
 },
 "nbformat": 4,
 "nbformat_minor": 2
}
