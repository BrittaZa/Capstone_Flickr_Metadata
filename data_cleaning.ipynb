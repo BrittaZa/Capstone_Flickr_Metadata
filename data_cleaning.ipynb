{
 "cells": [
  {
   "cell_type": "markdown",
   "metadata": {},
   "source": [
    "### If the data is dirty it has to be cleaned"
   ]
  },
  {
   "cell_type": "code",
   "execution_count": 33,
   "metadata": {},
   "outputs": [],
   "source": [
    "# Python modules\n",
    "import flickrapi\n",
    "import pandas as pd\n",
    "import os\n",
    "import json\n",
    "from dotenv import load_dotenv\n",
    "load_dotenv()\n",
    "import numpy as np\n",
    "\n",
    "# Import additional functions\n",
    "from flickr_functions import df_remove_dupes\n",
    "\n",
    "# Keys needed for API access\n",
    "api_key = os.getenv('flickr_api_key')\n",
    "api_secret = os.getenv('flickr_api_secret')\n",
    "\n",
    "# Flickr API object\n",
    "flickr = flickrapi.FlickrAPI(api_key, api_secret, format='parsed-json')\n",
    "\n",
    "# Data directory used to store CVS files\n",
    "data_dir = './data/'"
   ]
  },
  {
   "cell_type": "code",
   "execution_count": 34,
   "metadata": {},
   "outputs": [],
   "source": [
    "# Load EXIF dataframe from CVS file\n",
    "df = pd.read_csv(data_dir + 'df_photo_exif_final.csv', index_col=[0])"
   ]
  },
  {
   "cell_type": "code",
   "execution_count": 35,
   "metadata": {},
   "outputs": [],
   "source": [
    "df = df.reset_index()\n",
    "df = df.drop(columns='index')\n",
    "df.columns = df.columns.str.lower()\n",
    "df.columns = df.columns.str.replace(' ', '_')\n",
    "df['id'] = df['id'].astype(int)\n",
    "#df['image_width'] = df['image_width'].astype(int)\n",
    "#df['image_height'] = df['image_height'].astype(int)\n",
    "\n",
    "df = df.replace(to_replace='na', value=np.nan)"
   ]
  },
  {
   "cell_type": "code",
   "execution_count": 36,
   "metadata": {},
   "outputs": [
    {
     "name": "stdout",
     "output_type": "stream",
     "text": [
      "<class 'pandas.core.frame.DataFrame'>\n",
      "RangeIndex: 212932 entries, 0 to 212931\n",
      "Data columns (total 27 columns):\n",
      " #   Column                     Non-Null Count   Dtype  \n",
      "---  ------                     --------------   -----  \n",
      " 0   id                         212932 non-null  int64  \n",
      " 1   image_width                30340 non-null   float64\n",
      " 2   image_height               30345 non-null   float64\n",
      " 3   compression                150297 non-null  object \n",
      " 4   make                       166791 non-null  object \n",
      " 5   model                      166895 non-null  object \n",
      " 6   orientation                115092 non-null  object \n",
      " 7   software                   160576 non-null  object \n",
      " 8   date_and_time_(modified)   174484 non-null  object \n",
      " 9   exposure                   163639 non-null  object \n",
      " 10  aperture                   162502 non-null  object \n",
      " 11  iso_speed                  163114 non-null  object \n",
      " 12  date_and_time_(original)   169637 non-null  object \n",
      " 13  date_and_time_(digitized)  175706 non-null  object \n",
      " 14  flash                      162100 non-null  object \n",
      " 15  focal_length               162427 non-null  object \n",
      " 16  white_balance              162472 non-null  object \n",
      " 17  owner                      212932 non-null  object \n",
      " 18  secret                     212932 non-null  object \n",
      " 19  title                      210535 non-null  object \n",
      " 20  lat                        36343 non-null   object \n",
      " 21  lon                        36343 non-null   object \n",
      " 22  acc                        36343 non-null   object \n",
      " 23  country                    41573 non-null   object \n",
      " 24  admin_lvl1                 40330 non-null   object \n",
      " 25  admin_lvl2                 34516 non-null   object \n",
      " 26  city                       39755 non-null   object \n",
      "dtypes: float64(2), int64(1), object(24)\n",
      "memory usage: 43.9+ MB\n"
     ]
    }
   ],
   "source": [
    "df.info()"
   ]
  },
  {
   "cell_type": "code",
   "execution_count": 38,
   "metadata": {},
   "outputs": [],
   "source": [
    "df.to_csv('./data/df_photo_exif_cleaned.csv')"
   ]
  },
  {
   "cell_type": "code",
   "execution_count": null,
   "metadata": {},
   "outputs": [],
   "source": [
    "df_ids = pd.read_csv(data_dir + 'df_photo_ids_final.csv', index_col=[0])"
   ]
  },
  {
   "cell_type": "code",
   "execution_count": null,
   "metadata": {},
   "outputs": [],
   "source": [
    "df_ids"
   ]
  },
  {
   "cell_type": "code",
   "execution_count": null,
   "metadata": {},
   "outputs": [],
   "source": [
    "print(len(df_ids))\n",
    "df_ids = df_ids[~df_ids.id.isin(df_exif.id)]\n",
    "print(len(df_ids))"
   ]
  },
  {
   "cell_type": "code",
   "execution_count": null,
   "metadata": {},
   "outputs": [],
   "source": [
    "# This is too slow\n",
    "print(f'length before: {len(df_photo_ids)}')\n",
    "for i_ex, r_ex in df_photo_exif.iterrows():\n",
    "    for i_id, r_id in df_photo_ids.iterrows():\n",
    "        if r_id.get('id') == r_ex.get('id'):\n",
    "            print(f'found id {r_id.get(\"id\")} in both')\n",
    "            df_photo_ids = df_photo_ids.drop(i_id)\n",
    "print(f'length after: {len(df_photo_ids)}')"
   ]
  },
  {
   "cell_type": "code",
   "execution_count": null,
   "metadata": {},
   "outputs": [],
   "source": [
    "df_photo_ids.info()"
   ]
  },
  {
   "cell_type": "code",
   "execution_count": null,
   "metadata": {},
   "outputs": [],
   "source": [
    "df_photo_exif = df_remove_dupes(df_photo_exif)"
   ]
  },
  {
   "cell_type": "code",
   "execution_count": null,
   "metadata": {},
   "outputs": [],
   "source": [
    "df_tmp = df_photo_exif.groupby(df_photo_exif.country).count()['id'].sort_values(ascending=False)\n",
    "df_tmp"
   ]
  },
  {
   "cell_type": "code",
   "execution_count": null,
   "metadata": {},
   "outputs": [],
   "source": [
    "df_photo_exif[(df_photo_exif['city'] == 'King of Prussia')]['id'].count()"
   ]
  },
  {
   "cell_type": "code",
   "execution_count": null,
   "metadata": {},
   "outputs": [],
   "source": [
    "counter = 0\n",
    "for index, row in df_photo_exif.iterrows():\n",
    "    if row.get('city') == 'King of Prussia':\n",
    "        df_photo_exif.loc[index, 'country'] = 'tbd'\n",
    "        df_photo_exif.loc[index, 'admin_lvl1'] = 'tbd'\n",
    "        df_photo_exif.loc[index, 'admin_lvl2'] = 'tbd'\n",
    "        df_photo_exif.loc[index, 'city'] = 'tbd'\n",
    "print(counter)\n"
   ]
  },
  {
   "cell_type": "code",
   "execution_count": null,
   "metadata": {},
   "outputs": [],
   "source": [
    "df_photo_exif.columns"
   ]
  },
  {
   "cell_type": "code",
   "execution_count": null,
   "metadata": {},
   "outputs": [],
   "source": [
    "df_photo_exif.sample(5)"
   ]
  },
  {
   "cell_type": "code",
   "execution_count": null,
   "metadata": {},
   "outputs": [],
   "source": [
    "df_photo_exif = df_photo_exif.drop(['Creator Tool'], axis=1)"
   ]
  },
  {
   "cell_type": "code",
   "execution_count": null,
   "metadata": {},
   "outputs": [],
   "source": [
    "df_photo_exif[\"id\"] = pd.to_numeric(df_photo_exif[\"id\"])"
   ]
  },
  {
   "cell_type": "code",
   "execution_count": null,
   "metadata": {},
   "outputs": [],
   "source": [
    "df_photo_exif.sample()"
   ]
  },
  {
   "cell_type": "code",
   "execution_count": null,
   "metadata": {},
   "outputs": [],
   "source": [
    "df_photo_exif.info()"
   ]
  },
  {
   "cell_type": "code",
   "execution_count": null,
   "metadata": {},
   "outputs": [],
   "source": [
    "# Drop all rows that have 10 or less entries per row\n",
    "df_photo_exif = df_photo_exif.drop(df_photo_exif[df_photo_exif.count(axis='columns') <= 10].index)"
   ]
  },
  {
   "cell_type": "code",
   "execution_count": null,
   "metadata": {},
   "outputs": [],
   "source": [
    "bla = len(df_photo_exif[df_photo_exif.count(axis='columns') <= 10])\n",
    "print(bla)"
   ]
  },
  {
   "cell_type": "code",
   "execution_count": null,
   "metadata": {},
   "outputs": [],
   "source": [
    "# Only keep rows that have the Make field filled\n",
    "df_photo_exif = df_photo_exif[df_photo_exif['Make'].notnull()]"
   ]
  },
  {
   "cell_type": "code",
   "execution_count": null,
   "metadata": {},
   "outputs": [],
   "source": [
    "df_photo_exif.sample(10)"
   ]
  },
  {
   "cell_type": "code",
   "execution_count": null,
   "metadata": {},
   "outputs": [],
   "source": [
    "df_ids.to_csv(data_dir + 'df_photo_ids_final.csv')"
   ]
  },
  {
   "cell_type": "code",
   "execution_count": 37,
   "metadata": {},
   "outputs": [
    {
     "ename": "NameError",
     "evalue": "name 'df_photo_exif' is not defined",
     "output_type": "error",
     "traceback": [
      "\u001b[0;31m---------------------------------------------------------------------------\u001b[0m",
      "\u001b[0;31mNameError\u001b[0m                                 Traceback (most recent call last)",
      "\u001b[1;32m/Users/johannes/Documents/Data Analytics/repos/Capstone_Flickr_Metadata/data_cleaning.ipynb Zelle 27\u001b[0m line \u001b[0;36m1\n\u001b[0;32m----> <a href='vscode-notebook-cell:/Users/johannes/Documents/Data%20Analytics/repos/Capstone_Flickr_Metadata/data_cleaning.ipynb#X32sZmlsZQ%3D%3D?line=0'>1</a>\u001b[0m df_photo_exif\u001b[39m.\u001b[39mto_csv(\u001b[39m'\u001b[39m\u001b[39m./data/df_photo_exif_cleaned.csv\u001b[39m\u001b[39m'\u001b[39m)\n",
      "\u001b[0;31mNameError\u001b[0m: name 'df_photo_exif' is not defined"
     ]
    }
   ],
   "source": [
    "df.to_csv('./data/df_photo_exif_cleaned.csv')"
   ]
  }
 ],
 "metadata": {
  "kernelspec": {
   "display_name": "nf_base",
   "language": "python",
   "name": "python3"
  },
  "language_info": {
   "codemirror_mode": {
    "name": "ipython",
    "version": 3
   },
   "file_extension": ".py",
   "mimetype": "text/x-python",
   "name": "python",
   "nbconvert_exporter": "python",
   "pygments_lexer": "ipython3",
   "version": "3.9.17"
  },
  "orig_nbformat": 4
 },
 "nbformat": 4,
 "nbformat_minor": 2
}
