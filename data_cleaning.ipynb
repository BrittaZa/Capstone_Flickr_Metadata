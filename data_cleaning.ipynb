{
 "cells": [
  {
   "cell_type": "markdown",
   "metadata": {},
   "source": [
    "### If the data is dirty it has to be cleaned"
   ]
  },
  {
   "cell_type": "code",
   "execution_count": 2,
   "metadata": {},
   "outputs": [],
   "source": [
    "# Python modules\n",
    "import flickrapi\n",
    "import pandas as pd\n",
    "import os\n",
    "import json\n",
    "from dotenv import load_dotenv\n",
    "load_dotenv()\n",
    "\n",
    "# Import additional functions\n",
    "from flickr_functions import df_remove_dupes\n",
    "\n",
    "# Keys needed for API access\n",
    "api_key = os.getenv('flickr_api_key')\n",
    "api_secret = os.getenv('flickr_api_secret')\n",
    "\n",
    "# Flickr API object\n",
    "flickr = flickrapi.FlickrAPI(api_key, api_secret, format='parsed-json')\n",
    "\n",
    "# Data directory used to store CVS files\n",
    "data_dir = './data/'"
   ]
  },
  {
   "cell_type": "code",
   "execution_count": 3,
   "metadata": {},
   "outputs": [
    {
     "name": "stderr",
     "output_type": "stream",
     "text": [
      "/var/folders/1w/z3bnqwt15h51dylk00lzrt780000gn/T/ipykernel_96245/991762383.py:2: DtypeWarning: Columns (11) have mixed types. Specify dtype option on import or set low_memory=False.\n",
      "  df_photo_exif = pd.read_csv(data_dir + 'df_photo_exif_final.csv', index_col=[0])\n"
     ]
    }
   ],
   "source": [
    "# Load EXIF dataframe from CVS file\n",
    "df_photo_exif = pd.read_csv(data_dir + 'df_photo_exif_final.csv', index_col=[0])"
   ]
  },
  {
   "cell_type": "code",
   "execution_count": 63,
   "metadata": {},
   "outputs": [
    {
     "data": {
      "text/plain": [
       "country\n",
       "na                181474\n",
       "United States       9087\n",
       "United Kingdom      8579\n",
       "tbd                 8113\n",
       "Belgium             3847\n",
       "                   ...  \n",
       "Åland Islands          3\n",
       "Cameroon               2\n",
       "Uzbekistan             2\n",
       "Bolivia                2\n",
       "Kuwait                 2\n",
       "Name: id, Length: 130, dtype: int64"
      ]
     },
     "execution_count": 63,
     "metadata": {},
     "output_type": "execute_result"
    }
   ],
   "source": [
    "df_tmp = df_photo_exif.groupby(df_photo_exif.country).count()['id'].sort_values(ascending=False)\n",
    "df_tmp"
   ]
  },
  {
   "cell_type": "code",
   "execution_count": 4,
   "metadata": {},
   "outputs": [
    {
     "data": {
      "text/plain": [
       "8220"
      ]
     },
     "execution_count": 4,
     "metadata": {},
     "output_type": "execute_result"
    }
   ],
   "source": [
    "df_photo_exif[(df_photo_exif['city'] == 'King of Prussia')]['id'].count()"
   ]
  },
  {
   "cell_type": "code",
   "execution_count": 5,
   "metadata": {},
   "outputs": [
    {
     "name": "stdout",
     "output_type": "stream",
     "text": [
      "0\n"
     ]
    }
   ],
   "source": [
    "counter = 0\n",
    "for index, row in df_photo_exif.iterrows():\n",
    "    if row.get('city') == 'King of Prussia':\n",
    "        df_photo_exif.loc[index, 'country'] = 'tbd'\n",
    "        df_photo_exif.loc[index, 'admin_lvl1'] = 'tbd'\n",
    "        df_photo_exif.loc[index, 'admin_lvl2'] = 'tbd'\n",
    "        df_photo_exif.loc[index, 'city'] = 'tbd'\n",
    "print(counter)\n"
   ]
  },
  {
   "cell_type": "code",
   "execution_count": 4,
   "metadata": {},
   "outputs": [
    {
     "data": {
      "text/plain": [
       "Index(['id', 'Image Width', 'Image Height', 'Compression', 'Make', 'Model',\n",
       "       'Orientation', 'Software', 'Date and Time (Modified)', 'Exposure',\n",
       "       'Aperture', 'ISO Speed', 'Date and Time (Original)',\n",
       "       'Date and Time (Digitized)', 'Flash', 'Focal Length', 'White Balance',\n",
       "       'owner', 'secret', 'title', 'lat', 'lon', 'acc'],\n",
       "      dtype='object')"
      ]
     },
     "execution_count": 4,
     "metadata": {},
     "output_type": "execute_result"
    }
   ],
   "source": [
    "df_photo_exif.columns"
   ]
  },
  {
   "cell_type": "code",
   "execution_count": null,
   "metadata": {},
   "outputs": [],
   "source": [
    "df_photo_exif.sample(5)"
   ]
  },
  {
   "cell_type": "code",
   "execution_count": null,
   "metadata": {},
   "outputs": [],
   "source": [
    "df_photo_exif = df_photo_exif.drop(['Creator Tool'], axis=1)"
   ]
  },
  {
   "cell_type": "code",
   "execution_count": null,
   "metadata": {},
   "outputs": [],
   "source": [
    "df_photo_exif[\"id\"] = pd.to_numeric(df_photo_exif[\"id\"])"
   ]
  },
  {
   "cell_type": "code",
   "execution_count": null,
   "metadata": {},
   "outputs": [],
   "source": [
    "df_photo_exif.sample()"
   ]
  },
  {
   "cell_type": "code",
   "execution_count": null,
   "metadata": {},
   "outputs": [],
   "source": [
    "df_photo_exif.info()"
   ]
  },
  {
   "cell_type": "code",
   "execution_count": null,
   "metadata": {},
   "outputs": [],
   "source": [
    "# Drop all rows that have 10 or less entries per row\n",
    "df_photo_exif = df_photo_exif.drop(df_photo_exif[df_photo_exif.count(axis='columns') <= 10].index)"
   ]
  },
  {
   "cell_type": "code",
   "execution_count": 15,
   "metadata": {},
   "outputs": [
    {
     "name": "stdout",
     "output_type": "stream",
     "text": [
      "0\n"
     ]
    }
   ],
   "source": [
    "bla = len(df_photo_exif[df_photo_exif.count(axis='columns') <= 10])\n",
    "print(bla)"
   ]
  },
  {
   "cell_type": "code",
   "execution_count": null,
   "metadata": {},
   "outputs": [],
   "source": [
    "# Only keep rows that have the Make field filled\n",
    "df_photo_exif = df_photo_exif[df_photo_exif['Make'].notnull()]"
   ]
  },
  {
   "cell_type": "code",
   "execution_count": null,
   "metadata": {},
   "outputs": [],
   "source": [
    "df_photo_exif.sample(10)"
   ]
  },
  {
   "cell_type": "code",
   "execution_count": 48,
   "metadata": {},
   "outputs": [],
   "source": [
    "df_photo_exif.to_csv('./data/df_photo_exif_final.csv')"
   ]
  }
 ],
 "metadata": {
  "kernelspec": {
   "display_name": "nf_base",
   "language": "python",
   "name": "python3"
  },
  "language_info": {
   "codemirror_mode": {
    "name": "ipython",
    "version": 3
   },
   "file_extension": ".py",
   "mimetype": "text/x-python",
   "name": "python",
   "nbconvert_exporter": "python",
   "pygments_lexer": "ipython3",
   "version": "3.9.17"
  },
  "orig_nbformat": 4
 },
 "nbformat": 4,
 "nbformat_minor": 2
}
