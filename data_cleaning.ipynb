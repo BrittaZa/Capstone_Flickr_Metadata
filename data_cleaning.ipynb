{
 "cells": [
  {
   "cell_type": "markdown",
   "metadata": {},
   "source": [
    "### If the data is dirty it has to be cleaned"
   ]
  },
  {
   "cell_type": "code",
   "execution_count": 4,
   "metadata": {},
   "outputs": [],
   "source": [
    "# Python modules\n",
    "import flickrapi\n",
    "import pandas as pd\n",
    "import os\n",
    "import json\n",
    "from dotenv import load_dotenv\n",
    "load_dotenv()\n",
    "import numpy as np\n",
    "from datetime import date\n",
    "\n",
    "# Import additional functions\n",
    "from flickr_functions import df_remove_dupes\n",
    "\n",
    "# Keys needed for API access\n",
    "api_key = os.getenv('flickr_api_key')\n",
    "api_secret = os.getenv('flickr_api_secret')\n",
    "\n",
    "# Flickr API object\n",
    "flickr = flickrapi.FlickrAPI(api_key, api_secret, format='parsed-json')\n",
    "\n",
    "# Data directory used to store CVS files\n",
    "data_dir = './data/'"
   ]
  },
  {
   "cell_type": "code",
   "execution_count": 5,
   "metadata": {},
   "outputs": [],
   "source": [
    "# Load EXIF dataframe from CVS file\n",
    "df = pd.read_csv(data_dir + 'df_photo_exif_final.csv', index_col=[0])"
   ]
  },
  {
   "cell_type": "code",
   "execution_count": 6,
   "metadata": {},
   "outputs": [],
   "source": [
    "# Reset the index so it looks better\n",
    "df = df.reset_index()\n",
    "\n",
    "# Drop columns not needed\n",
    "columns_to_drop = ['index', \n",
    "                   'Image Width', \n",
    "                   'Image Height', \n",
    "                   'Orientation', \n",
    "                   'Date and Time (Modified)', \n",
    "                   'Date and Time (Digitized)']\n",
    "\n",
    "df = df.drop(columns = columns_to_drop)\n",
    "\n",
    "# Rename columns and get rid of weird chars\n",
    "df.columns = df.columns.str.lower()\n",
    "df.columns = df.columns.str.replace(' ', '_')\n",
    "df = df.rename(columns={'date_and_time_(original)': 'date_and_time', 'owner': 'user_id'})\n",
    "\n",
    "# Drop duplicates\n",
    "df.drop_duplicates(subset='id', keep='first', inplace=True)\n",
    "\n",
    "# Replace na and tbd with proper Nan\n",
    "df = df.replace(to_replace='na', value=np.nan)\n",
    "df = df.replace(to_replace='tbd', value=np.nan)\n",
    "\n",
    "# Repair some values\n",
    "for i, row in df[(df['iso_speed'].notnull()) & (df['iso_speed'].str.contains(','))].iterrows():\n",
    "    df.at[i, 'iso_speed'] = int(float(row.get('iso_speed').split(',')[0]))\n",
    "df.loc[df['aperture'] == 'undef', 'aperture'] = np.NAN\n",
    "df.loc[df['aperture'] == 'Centered', 'aperture'] = np.NAN\n",
    "for i, row in df[(df['focal_length'].notnull()) & (df['focal_length'].str.contains(' '))].iterrows():\n",
    "    df.at[i, 'focal_length'] = int(float(row.get('focal_length').split(' ')[0]))\n",
    "df.loc[df['focal_length'] == 'Other', 'focal_length'] = np.NAN\n",
    "\n",
    "# Data types\n",
    "df['id'] = df['id'].astype(int)\n",
    "df['aperture'] = pd.to_numeric(df['aperture'])\n",
    "df['iso_speed'] = pd.to_numeric(df['iso_speed'])\n",
    "df.date_and_time = pd.to_datetime(df.date_and_time, format='%Y:%m:%d %H:%M:%S', errors='coerce')\n",
    "df.lat, df.lon = df.lat.astype(float), df.lon.astype(float)\n",
    "df['focal_length'] = pd.to_numeric(df['focal_length'])\n",
    "df['acc'] = pd.to_numeric(df['acc'])\n",
    "df['compression'] = df['compression'].astype('string')\n",
    "df['make'] = df['make'].astype('string')\n",
    "df['model'] = df['model'].astype('string')\n",
    "df['software'] = df['software'].astype('string')\n",
    "df['exposure'] = df['exposure'].astype('string')\n",
    "df['flash'] = df['flash'].astype('string')\n",
    "df['white_balance'] = df['white_balance'].astype('string')\n",
    "df['user_id'] = df['user_id'].astype('string')\n",
    "df['secret'] = df['secret'].astype('string')\n",
    "df['country'] = df['country'].astype('string')\n",
    "df['admin_lvl1'] = df['admin_lvl1'].astype('string')\n",
    "df['admin_lvl2'] = df['admin_lvl2'].astype('string')\n",
    "df['city'] = df['city'].astype('string')\n",
    "\n",
    "# Reset index again\n",
    "df = df.reset_index()"
   ]
  },
  {
   "cell_type": "code",
   "execution_count": 7,
   "metadata": {},
   "outputs": [
    {
     "name": "stdout",
     "output_type": "stream",
     "text": [
      "<class 'pandas.core.frame.DataFrame'>\n",
      "RangeIndex: 365127 entries, 0 to 365126\n",
      "Data columns (total 23 columns):\n",
      " #   Column         Non-Null Count   Dtype         \n",
      "---  ------         --------------   -----         \n",
      " 0   index          365127 non-null  int64         \n",
      " 1   id             365127 non-null  int64         \n",
      " 2   compression    258898 non-null  string        \n",
      " 3   make           300271 non-null  string        \n",
      " 4   model          300504 non-null  string        \n",
      " 5   software       287517 non-null  string        \n",
      " 6   exposure       294586 non-null  string        \n",
      " 7   aperture       293263 non-null  float64       \n",
      " 8   iso_speed      293729 non-null  float64       \n",
      " 9   date_and_time  302390 non-null  datetime64[ns]\n",
      " 10  flash          292258 non-null  string        \n",
      " 11  focal_length   292990 non-null  float64       \n",
      " 12  white_balance  290995 non-null  string        \n",
      " 13  user_id        365127 non-null  string        \n",
      " 14  secret         365127 non-null  string        \n",
      " 15  title          361125 non-null  object        \n",
      " 16  lat            212852 non-null  float64       \n",
      " 17  lon            212852 non-null  float64       \n",
      " 18  acc            212852 non-null  float64       \n",
      " 19  country        209478 non-null  string        \n",
      " 20  admin_lvl1     203670 non-null  string        \n",
      " 21  admin_lvl2     167104 non-null  string        \n",
      " 22  city           191991 non-null  string        \n",
      "dtypes: datetime64[ns](1), float64(6), int64(2), object(1), string(13)\n",
      "memory usage: 64.1+ MB\n"
     ]
    }
   ],
   "source": [
    "df.info()"
   ]
  },
  {
   "cell_type": "code",
   "execution_count": 4,
   "metadata": {},
   "outputs": [],
   "source": [
    "df.to_csv('./data/df_photo_exif_cleaned.csv')"
   ]
  }
 ],
 "metadata": {
  "kernelspec": {
   "display_name": "nf_base",
   "language": "python",
   "name": "python3"
  },
  "language_info": {
   "codemirror_mode": {
    "name": "ipython",
    "version": 3
   },
   "file_extension": ".py",
   "mimetype": "text/x-python",
   "name": "python",
   "nbconvert_exporter": "python",
   "pygments_lexer": "ipython3",
   "version": "3.9.7"
  },
  "orig_nbformat": 4
 },
 "nbformat": 4,
 "nbformat_minor": 2
}
