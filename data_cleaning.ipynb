{
 "cells": [
  {
   "cell_type": "markdown",
   "metadata": {},
   "source": [
    "### If the data is dirty it has to be cleaned"
   ]
  },
  {
   "cell_type": "code",
   "execution_count": 2,
   "metadata": {},
   "outputs": [],
   "source": [
    "# Python modules\n",
    "import flickrapi\n",
    "import pandas as pd\n",
    "import os\n",
    "import json\n",
    "from dotenv import load_dotenv\n",
    "load_dotenv()\n",
    "\n",
    "# Import additional functions\n",
    "from flickr_functions import df_remove_dupes\n",
    "\n",
    "# Keys needed for API access\n",
    "api_key = os.getenv('flickr_api_key')\n",
    "api_secret = os.getenv('flickr_api_secret')\n",
    "\n",
    "# Flickr API object\n",
    "flickr = flickrapi.FlickrAPI(api_key, api_secret, format='parsed-json')\n",
    "\n",
    "# Data directory used to store CVS files\n",
    "data_dir = './data/'"
   ]
  },
  {
   "cell_type": "code",
   "execution_count": 53,
   "metadata": {},
   "outputs": [],
   "source": [
    "# Load EXIF dataframe from CVS file\n",
    "df_exif = pd.read_csv(data_dir + 'df_photo_exif_final.csv', index_col=[0])"
   ]
  },
  {
   "cell_type": "code",
   "execution_count": 54,
   "metadata": {},
   "outputs": [],
   "source": [
    "df_ids = pd.read_csv(data_dir + 'df_photo_ids_final.csv', index_col=[0])"
   ]
  },
  {
   "cell_type": "code",
   "execution_count": 48,
   "metadata": {},
   "outputs": [
    {
     "data": {
      "text/html": [
       "<div>\n",
       "<style scoped>\n",
       "    .dataframe tbody tr th:only-of-type {\n",
       "        vertical-align: middle;\n",
       "    }\n",
       "\n",
       "    .dataframe tbody tr th {\n",
       "        vertical-align: top;\n",
       "    }\n",
       "\n",
       "    .dataframe thead th {\n",
       "        text-align: right;\n",
       "    }\n",
       "</style>\n",
       "<table border=\"1\" class=\"dataframe\">\n",
       "  <thead>\n",
       "    <tr style=\"text-align: right;\">\n",
       "      <th></th>\n",
       "      <th>Unnamed: 0</th>\n",
       "      <th>id</th>\n",
       "      <th>owner</th>\n",
       "      <th>secret</th>\n",
       "      <th>title</th>\n",
       "      <th>ispublic</th>\n",
       "    </tr>\n",
       "  </thead>\n",
       "  <tbody>\n",
       "    <tr>\n",
       "      <th>92381</th>\n",
       "      <td>96039</td>\n",
       "      <td>53135764057</td>\n",
       "      <td>154104874@N04</td>\n",
       "      <td>73444af4c2</td>\n",
       "      <td>It's Like A New Boat BTS</td>\n",
       "      <td>1</td>\n",
       "    </tr>\n",
       "    <tr>\n",
       "      <th>92382</th>\n",
       "      <td>96040</td>\n",
       "      <td>53136358506</td>\n",
       "      <td>154104874@N04</td>\n",
       "      <td>7df431308b</td>\n",
       "      <td>It's Like A New Boat BTS</td>\n",
       "      <td>1</td>\n",
       "    </tr>\n",
       "    <tr>\n",
       "      <th>92383</th>\n",
       "      <td>96041</td>\n",
       "      <td>53136832023</td>\n",
       "      <td>154104874@N04</td>\n",
       "      <td>0ec992074c</td>\n",
       "      <td>It's Like A New Boat BTS</td>\n",
       "      <td>1</td>\n",
       "    </tr>\n",
       "    <tr>\n",
       "      <th>92384</th>\n",
       "      <td>96042</td>\n",
       "      <td>53136762650</td>\n",
       "      <td>154104874@N04</td>\n",
       "      <td>6c4fa436bd</td>\n",
       "      <td>It's Like A New Boat BTS</td>\n",
       "      <td>1</td>\n",
       "    </tr>\n",
       "    <tr>\n",
       "      <th>92385</th>\n",
       "      <td>96043</td>\n",
       "      <td>53136559689</td>\n",
       "      <td>154104874@N04</td>\n",
       "      <td>28bdbc9855</td>\n",
       "      <td>It's Like A New Boat BTS</td>\n",
       "      <td>1</td>\n",
       "    </tr>\n",
       "    <tr>\n",
       "      <th>...</th>\n",
       "      <td>...</td>\n",
       "      <td>...</td>\n",
       "      <td>...</td>\n",
       "      <td>...</td>\n",
       "      <td>...</td>\n",
       "      <td>...</td>\n",
       "    </tr>\n",
       "    <tr>\n",
       "      <th>89914</th>\n",
       "      <td>92321</td>\n",
       "      <td>53134644569</td>\n",
       "      <td>198001330@N02</td>\n",
       "      <td>3eca57011b</td>\n",
       "      <td>202324_DYNMXC-IMG_9446</td>\n",
       "      <td>1</td>\n",
       "    </tr>\n",
       "    <tr>\n",
       "      <th>89915</th>\n",
       "      <td>92322</td>\n",
       "      <td>53134844710</td>\n",
       "      <td>198001330@N02</td>\n",
       "      <td>b3162a8a7d</td>\n",
       "      <td>202324_DYNMXC-IMG_9449</td>\n",
       "      <td>1</td>\n",
       "    </tr>\n",
       "    <tr>\n",
       "      <th>89916</th>\n",
       "      <td>92323</td>\n",
       "      <td>53134644494</td>\n",
       "      <td>198001330@N02</td>\n",
       "      <td>e6743a340d</td>\n",
       "      <td>202324_DYNMXC-IMG_9450</td>\n",
       "      <td>1</td>\n",
       "    </tr>\n",
       "    <tr>\n",
       "      <th>89917</th>\n",
       "      <td>92324</td>\n",
       "      <td>53134439631</td>\n",
       "      <td>198001330@N02</td>\n",
       "      <td>1e7b92398d</td>\n",
       "      <td>202324_DYNMXC-IMG_9459</td>\n",
       "      <td>1</td>\n",
       "    </tr>\n",
       "    <tr>\n",
       "      <th>89918</th>\n",
       "      <td>92325</td>\n",
       "      <td>53134644489</td>\n",
       "      <td>198001330@N02</td>\n",
       "      <td>f30d4e7839</td>\n",
       "      <td>202324_DYNMXC-IMG_9454</td>\n",
       "      <td>1</td>\n",
       "    </tr>\n",
       "  </tbody>\n",
       "</table>\n",
       "<p>208712 rows × 6 columns</p>\n",
       "</div>"
      ],
      "text/plain": [
       "       Unnamed: 0           id          owner      secret  \\\n",
       "92381       96039  53135764057  154104874@N04  73444af4c2   \n",
       "92382       96040  53136358506  154104874@N04  7df431308b   \n",
       "92383       96041  53136832023  154104874@N04  0ec992074c   \n",
       "92384       96042  53136762650  154104874@N04  6c4fa436bd   \n",
       "92385       96043  53136559689  154104874@N04  28bdbc9855   \n",
       "...           ...          ...            ...         ...   \n",
       "89914       92321  53134644569  198001330@N02  3eca57011b   \n",
       "89915       92322  53134844710  198001330@N02  b3162a8a7d   \n",
       "89916       92323  53134644494  198001330@N02  e6743a340d   \n",
       "89917       92324  53134439631  198001330@N02  1e7b92398d   \n",
       "89918       92325  53134644489  198001330@N02  f30d4e7839   \n",
       "\n",
       "                          title  ispublic  \n",
       "92381  It's Like A New Boat BTS         1  \n",
       "92382  It's Like A New Boat BTS         1  \n",
       "92383  It's Like A New Boat BTS         1  \n",
       "92384  It's Like A New Boat BTS         1  \n",
       "92385  It's Like A New Boat BTS         1  \n",
       "...                         ...       ...  \n",
       "89914    202324_DYNMXC-IMG_9446         1  \n",
       "89915    202324_DYNMXC-IMG_9449         1  \n",
       "89916    202324_DYNMXC-IMG_9450         1  \n",
       "89917    202324_DYNMXC-IMG_9459         1  \n",
       "89918    202324_DYNMXC-IMG_9454         1  \n",
       "\n",
       "[208712 rows x 6 columns]"
      ]
     },
     "execution_count": 48,
     "metadata": {},
     "output_type": "execute_result"
    }
   ],
   "source": [
    "df_ids"
   ]
  },
  {
   "cell_type": "code",
   "execution_count": 55,
   "metadata": {},
   "outputs": [
    {
     "name": "stdout",
     "output_type": "stream",
     "text": [
      "208712\n",
      "125701\n"
     ]
    }
   ],
   "source": [
    "print(len(df_ids))\n",
    "df_ids = df_ids[~df_ids.id.isin(df_exif.id)]\n",
    "print(len(df_ids))"
   ]
  },
  {
   "cell_type": "code",
   "execution_count": 41,
   "metadata": {},
   "outputs": [
    {
     "name": "stdout",
     "output_type": "stream",
     "text": [
      "length before: 253639\n",
      "found id 52733753731 in both\n",
      "found id 52734237723 in both\n",
      "found id 52734166625 in both\n",
      "found id 52733753246 in both\n",
      "found id 52733753146 in both\n",
      "found id 52734166280 in both\n",
      "found id 52734237113 in both\n",
      "found id 52734166015 in both\n",
      "found id 52734007289 in both\n",
      "found id 52734165715 in both\n",
      "found id 52733227857 in both\n",
      "found id 52734165330 in both\n",
      "found id 52733227667 in both\n",
      "found id 52733751831 in both\n",
      "found id 52734006244 in both\n",
      "found id 52734006124 in both\n",
      "found id 52734235723 in both\n",
      "found id 52734005924 in both\n",
      "found id 52734235508 in both\n",
      "found id 52734164475 in both\n",
      "found id 52733750936 in both\n",
      "found id 52734005459 in both\n",
      "found id 52733750741 in both\n",
      "found id 52734234908 in both\n",
      "found id 52734005259 in both\n",
      "found id 52733750486 in both\n",
      "found id 52734234743 in both\n",
      "found id 52733750246 in both\n",
      "found id 52734234558 in both\n",
      "found id 52734234383 in both\n",
      "found id 52734234158 in both\n",
      "found id 52733225597 in both\n",
      "found id 52733225402 in both\n",
      "found id 52734003899 in both\n",
      "found id 52733225177 in both\n",
      "found id 52734233373 in both\n",
      "found id 52734233258 in both\n",
      "found id 52734003374 in both\n",
      "found id 52734162030 in both\n",
      "found id 52734232738 in both\n",
      "found id 52734232623 in both\n",
      "found id 52733748166 in both\n",
      "found id 52733748036 in both\n",
      "found id 52733223772 in both\n",
      "found id 52733223647 in both\n",
      "found id 52734232013 in both\n",
      "found id 52734001874 in both\n",
      "found id 52734001399 in both\n",
      "found id 52734231248 in both\n",
      "found id 52734231083 in both\n",
      "found id 52733222402 in both\n",
      "found id 52733746476 in both\n",
      "found id 52734159690 in both\n",
      "found id 52734000519 in both\n",
      "found id 52711159222 in both\n",
      "found id 52712098430 in both\n",
      "found id 52711158822 in both\n",
      "found id 52652996572 in both\n",
      "found id 52586374440 in both\n",
      "found id 52266886431 in both\n",
      "found id 52267374230 in both\n",
      "found id 52265919262 in both\n",
      "found id 52266897138 in both\n",
      "found id 52266897068 in both\n",
      "found id 51583329359 in both\n",
      "found id 51582657576 in both\n",
      "found id 51003040067 in both\n",
      "found id 51001683743 in both\n",
      "found id 51001682053 in both\n",
      "found id 50964297722 in both\n",
      "found id 50962851352 in both\n",
      "found id 50784883526 in both\n",
      "found id 50784984722 in both\n",
      "found id 50784984232 in both\n",
      "found id 50784882486 in both\n",
      "found id 50784983812 in both\n",
      "found id 50784882101 in both\n",
      "found id 50617285327 in both\n",
      "found id 50561269258 in both\n",
      "found id 50291217233 in both\n"
     ]
    },
    {
     "ename": "KeyboardInterrupt",
     "evalue": "",
     "output_type": "error",
     "traceback": [
      "\u001b[0;31m---------------------------------------------------------------------------\u001b[0m",
      "\u001b[0;31mKeyboardInterrupt\u001b[0m                         Traceback (most recent call last)",
      "\u001b[1;32m/Users/johannes/Documents/Data Analytics/repos/Capstone_Flickr_Metadata/data_cleaning.ipynb Zelle 6\u001b[0m line \u001b[0;36m3\n\u001b[1;32m      <a href='vscode-notebook-cell:/Users/johannes/Documents/Data%20Analytics/repos/Capstone_Flickr_Metadata/data_cleaning.ipynb#X26sZmlsZQ%3D%3D?line=0'>1</a>\u001b[0m \u001b[39mprint\u001b[39m(\u001b[39mf\u001b[39m\u001b[39m'\u001b[39m\u001b[39mlength before: \u001b[39m\u001b[39m{\u001b[39;00m\u001b[39mlen\u001b[39m(df_photo_ids)\u001b[39m}\u001b[39;00m\u001b[39m'\u001b[39m)\n\u001b[1;32m      <a href='vscode-notebook-cell:/Users/johannes/Documents/Data%20Analytics/repos/Capstone_Flickr_Metadata/data_cleaning.ipynb#X26sZmlsZQ%3D%3D?line=1'>2</a>\u001b[0m \u001b[39mfor\u001b[39;00m i_ex, r_ex \u001b[39min\u001b[39;00m df_photo_exif\u001b[39m.\u001b[39miterrows():\n\u001b[0;32m----> <a href='vscode-notebook-cell:/Users/johannes/Documents/Data%20Analytics/repos/Capstone_Flickr_Metadata/data_cleaning.ipynb#X26sZmlsZQ%3D%3D?line=2'>3</a>\u001b[0m     \u001b[39mfor\u001b[39;00m i_id, r_id \u001b[39min\u001b[39;00m df_photo_ids\u001b[39m.\u001b[39miterrows():\n\u001b[1;32m      <a href='vscode-notebook-cell:/Users/johannes/Documents/Data%20Analytics/repos/Capstone_Flickr_Metadata/data_cleaning.ipynb#X26sZmlsZQ%3D%3D?line=3'>4</a>\u001b[0m         \u001b[39mif\u001b[39;00m r_id\u001b[39m.\u001b[39mget(\u001b[39m'\u001b[39m\u001b[39mid\u001b[39m\u001b[39m'\u001b[39m) \u001b[39m==\u001b[39m r_ex\u001b[39m.\u001b[39mget(\u001b[39m'\u001b[39m\u001b[39mid\u001b[39m\u001b[39m'\u001b[39m):\n\u001b[1;32m      <a href='vscode-notebook-cell:/Users/johannes/Documents/Data%20Analytics/repos/Capstone_Flickr_Metadata/data_cleaning.ipynb#X26sZmlsZQ%3D%3D?line=4'>5</a>\u001b[0m             \u001b[39mprint\u001b[39m(\u001b[39mf\u001b[39m\u001b[39m'\u001b[39m\u001b[39mfound id \u001b[39m\u001b[39m{\u001b[39;00mr_id\u001b[39m.\u001b[39mget(\u001b[39m\"\u001b[39m\u001b[39mid\u001b[39m\u001b[39m\"\u001b[39m)\u001b[39m}\u001b[39;00m\u001b[39m in both\u001b[39m\u001b[39m'\u001b[39m)\n",
      "File \u001b[0;32m~/anaconda3/envs/nf_base/lib/python3.9/site-packages/pandas/core/frame.py:1411\u001b[0m, in \u001b[0;36mDataFrame.iterrows\u001b[0;34m(self)\u001b[0m\n\u001b[1;32m   1409\u001b[0m klass \u001b[39m=\u001b[39m \u001b[39mself\u001b[39m\u001b[39m.\u001b[39m_constructor_sliced\n\u001b[1;32m   1410\u001b[0m \u001b[39mfor\u001b[39;00m k, v \u001b[39min\u001b[39;00m \u001b[39mzip\u001b[39m(\u001b[39mself\u001b[39m\u001b[39m.\u001b[39mindex, \u001b[39mself\u001b[39m\u001b[39m.\u001b[39mvalues):\n\u001b[0;32m-> 1411\u001b[0m     s \u001b[39m=\u001b[39m klass(v, index\u001b[39m=\u001b[39;49mcolumns, name\u001b[39m=\u001b[39;49mk)\u001b[39m.\u001b[39m__finalize__(\u001b[39mself\u001b[39m)\n\u001b[1;32m   1412\u001b[0m     \u001b[39myield\u001b[39;00m k, s\n",
      "File \u001b[0;32m~/anaconda3/envs/nf_base/lib/python3.9/site-packages/pandas/core/series.py:483\u001b[0m, in \u001b[0;36mSeries.__init__\u001b[0;34m(self, data, index, dtype, name, copy, fastpath)\u001b[0m\n\u001b[1;32m    481\u001b[0m     \u001b[39mobject\u001b[39m\u001b[39m.\u001b[39m\u001b[39m__setattr__\u001b[39m(\u001b[39mself\u001b[39m, \u001b[39m\"\u001b[39m\u001b[39m_name\u001b[39m\u001b[39m\"\u001b[39m, name)\n\u001b[1;32m    482\u001b[0m \u001b[39melse\u001b[39;00m:\n\u001b[0;32m--> 483\u001b[0m     \u001b[39mself\u001b[39m\u001b[39m.\u001b[39mname \u001b[39m=\u001b[39m name\n\u001b[1;32m    484\u001b[0m     \u001b[39mself\u001b[39m\u001b[39m.\u001b[39m_set_axis(\u001b[39m0\u001b[39m, index)\n",
      "File \u001b[0;32m~/anaconda3/envs/nf_base/lib/python3.9/site-packages/pandas/core/generic.py:5924\u001b[0m, in \u001b[0;36mNDFrame.__setattr__\u001b[0;34m(self, name, value)\u001b[0m\n\u001b[1;32m   5922\u001b[0m     \u001b[39mobject\u001b[39m\u001b[39m.\u001b[39m\u001b[39m__setattr__\u001b[39m(\u001b[39mself\u001b[39m, name, value)\n\u001b[1;32m   5923\u001b[0m \u001b[39melif\u001b[39;00m name \u001b[39min\u001b[39;00m \u001b[39mself\u001b[39m\u001b[39m.\u001b[39m_metadata:\n\u001b[0;32m-> 5924\u001b[0m     \u001b[39mobject\u001b[39;49m\u001b[39m.\u001b[39m\u001b[39m__setattr__\u001b[39m(\u001b[39mself\u001b[39m, name, value)\n\u001b[1;32m   5925\u001b[0m \u001b[39melse\u001b[39;00m:\n\u001b[1;32m   5926\u001b[0m     \u001b[39mtry\u001b[39;00m:\n",
      "\u001b[0;31mKeyboardInterrupt\u001b[0m: "
     ]
    }
   ],
   "source": [
    "# This is too slow\n",
    "print(f'length before: {len(df_photo_ids)}')\n",
    "for i_ex, r_ex in df_photo_exif.iterrows():\n",
    "    for i_id, r_id in df_photo_ids.iterrows():\n",
    "        if r_id.get('id') == r_ex.get('id'):\n",
    "            print(f'found id {r_id.get(\"id\")} in both')\n",
    "            df_photo_ids = df_photo_ids.drop(i_id)\n",
    "print(f'length after: {len(df_photo_ids)}')"
   ]
  },
  {
   "cell_type": "code",
   "execution_count": 15,
   "metadata": {},
   "outputs": [
    {
     "name": "stdout",
     "output_type": "stream",
     "text": [
      "<class 'pandas.core.frame.DataFrame'>\n",
      "Int64Index: 253639 entries, 89919 to 91101\n",
      "Data columns (total 6 columns):\n",
      " #   Column      Non-Null Count   Dtype \n",
      "---  ------      --------------   ----- \n",
      " 0   Unnamed: 0  253639 non-null  int64 \n",
      " 1   id          253639 non-null  int64 \n",
      " 2   owner       253639 non-null  object\n",
      " 3   secret      253639 non-null  object\n",
      " 4   title       251289 non-null  object\n",
      " 5   ispublic    253639 non-null  int64 \n",
      "dtypes: int64(3), object(3)\n",
      "memory usage: 13.5+ MB\n"
     ]
    }
   ],
   "source": [
    "df_photo_ids.info()"
   ]
  },
  {
   "cell_type": "code",
   "execution_count": 8,
   "metadata": {},
   "outputs": [
    {
     "name": "stdout",
     "output_type": "stream",
     "text": [
      "Found 157170 duplicates. Dataframe is now 118002 rows long.\n"
     ]
    }
   ],
   "source": [
    "df_photo_exif = df_remove_dupes(df_photo_exif)"
   ]
  },
  {
   "cell_type": "code",
   "execution_count": 63,
   "metadata": {},
   "outputs": [
    {
     "data": {
      "text/plain": [
       "country\n",
       "na                181474\n",
       "United States       9087\n",
       "United Kingdom      8579\n",
       "tbd                 8113\n",
       "Belgium             3847\n",
       "                   ...  \n",
       "Åland Islands          3\n",
       "Cameroon               2\n",
       "Uzbekistan             2\n",
       "Bolivia                2\n",
       "Kuwait                 2\n",
       "Name: id, Length: 130, dtype: int64"
      ]
     },
     "execution_count": 63,
     "metadata": {},
     "output_type": "execute_result"
    }
   ],
   "source": [
    "df_tmp = df_photo_exif.groupby(df_photo_exif.country).count()['id'].sort_values(ascending=False)\n",
    "df_tmp"
   ]
  },
  {
   "cell_type": "code",
   "execution_count": 4,
   "metadata": {},
   "outputs": [
    {
     "data": {
      "text/plain": [
       "8220"
      ]
     },
     "execution_count": 4,
     "metadata": {},
     "output_type": "execute_result"
    }
   ],
   "source": [
    "df_photo_exif[(df_photo_exif['city'] == 'King of Prussia')]['id'].count()"
   ]
  },
  {
   "cell_type": "code",
   "execution_count": 5,
   "metadata": {},
   "outputs": [
    {
     "name": "stdout",
     "output_type": "stream",
     "text": [
      "0\n"
     ]
    }
   ],
   "source": [
    "counter = 0\n",
    "for index, row in df_photo_exif.iterrows():\n",
    "    if row.get('city') == 'King of Prussia':\n",
    "        df_photo_exif.loc[index, 'country'] = 'tbd'\n",
    "        df_photo_exif.loc[index, 'admin_lvl1'] = 'tbd'\n",
    "        df_photo_exif.loc[index, 'admin_lvl2'] = 'tbd'\n",
    "        df_photo_exif.loc[index, 'city'] = 'tbd'\n",
    "print(counter)\n"
   ]
  },
  {
   "cell_type": "code",
   "execution_count": 4,
   "metadata": {},
   "outputs": [
    {
     "data": {
      "text/plain": [
       "Index(['id', 'Image Width', 'Image Height', 'Compression', 'Make', 'Model',\n",
       "       'Orientation', 'Software', 'Date and Time (Modified)', 'Exposure',\n",
       "       'Aperture', 'ISO Speed', 'Date and Time (Original)',\n",
       "       'Date and Time (Digitized)', 'Flash', 'Focal Length', 'White Balance',\n",
       "       'owner', 'secret', 'title', 'lat', 'lon', 'acc'],\n",
       "      dtype='object')"
      ]
     },
     "execution_count": 4,
     "metadata": {},
     "output_type": "execute_result"
    }
   ],
   "source": [
    "df_photo_exif.columns"
   ]
  },
  {
   "cell_type": "code",
   "execution_count": null,
   "metadata": {},
   "outputs": [],
   "source": [
    "df_photo_exif.sample(5)"
   ]
  },
  {
   "cell_type": "code",
   "execution_count": null,
   "metadata": {},
   "outputs": [],
   "source": [
    "df_photo_exif = df_photo_exif.drop(['Creator Tool'], axis=1)"
   ]
  },
  {
   "cell_type": "code",
   "execution_count": null,
   "metadata": {},
   "outputs": [],
   "source": [
    "df_photo_exif[\"id\"] = pd.to_numeric(df_photo_exif[\"id\"])"
   ]
  },
  {
   "cell_type": "code",
   "execution_count": null,
   "metadata": {},
   "outputs": [],
   "source": [
    "df_photo_exif.sample()"
   ]
  },
  {
   "cell_type": "code",
   "execution_count": null,
   "metadata": {},
   "outputs": [],
   "source": [
    "df_photo_exif.info()"
   ]
  },
  {
   "cell_type": "code",
   "execution_count": null,
   "metadata": {},
   "outputs": [],
   "source": [
    "# Drop all rows that have 10 or less entries per row\n",
    "df_photo_exif = df_photo_exif.drop(df_photo_exif[df_photo_exif.count(axis='columns') <= 10].index)"
   ]
  },
  {
   "cell_type": "code",
   "execution_count": 15,
   "metadata": {},
   "outputs": [
    {
     "name": "stdout",
     "output_type": "stream",
     "text": [
      "0\n"
     ]
    }
   ],
   "source": [
    "bla = len(df_photo_exif[df_photo_exif.count(axis='columns') <= 10])\n",
    "print(bla)"
   ]
  },
  {
   "cell_type": "code",
   "execution_count": null,
   "metadata": {},
   "outputs": [],
   "source": [
    "# Only keep rows that have the Make field filled\n",
    "df_photo_exif = df_photo_exif[df_photo_exif['Make'].notnull()]"
   ]
  },
  {
   "cell_type": "code",
   "execution_count": null,
   "metadata": {},
   "outputs": [],
   "source": [
    "df_photo_exif.sample(10)"
   ]
  },
  {
   "cell_type": "code",
   "execution_count": null,
   "metadata": {},
   "outputs": [],
   "source": [
    "df_ids.to_csv(data_dir + 'df_photo_ids_final.csv')"
   ]
  },
  {
   "cell_type": "code",
   "execution_count": 9,
   "metadata": {},
   "outputs": [],
   "source": [
    "df_photo_exif.to_csv('./data/df_photo_exif_final.csv')"
   ]
  }
 ],
 "metadata": {
  "kernelspec": {
   "display_name": "nf_base",
   "language": "python",
   "name": "python3"
  },
  "language_info": {
   "codemirror_mode": {
    "name": "ipython",
    "version": 3
   },
   "file_extension": ".py",
   "mimetype": "text/x-python",
   "name": "python",
   "nbconvert_exporter": "python",
   "pygments_lexer": "ipython3",
   "version": "3.9.17"
  },
  "orig_nbformat": 4
 },
 "nbformat": 4,
 "nbformat_minor": 2
}
